{
 "cells": [
  {
   "cell_type": "markdown",
   "metadata": {},
   "source": [
    "<h1 align='center' style=\"color: blue;\">Functions</h1>"
   ]
  },
  {
   "cell_type": "markdown",
   "metadata": {},
   "source": [
    "## 1. Introduction to Functions"
   ]
  },
  {
   "cell_type": "markdown",
   "metadata": {},
   "source": [
    "<b>Function:</b> group of statements within a program that perform a specific task.\n",
    "<ul>\n",
    "<li>A large program can be written as several small functions, each one performing a specific part of the task.</li>\n",
    "</ul> \n",
    "<b>Modularized program:</b> A program that has been written with each task in its own function."
   ]
  },
  {
   "cell_type": "markdown",
   "metadata": {},
   "source": [
    "<img src='https://www.dropbox.com/s/4bamqhp8i0da7sg/Using%20functions%20to%20divide%20and%20conquer%20a%20large%20task.png?raw=1'/>\n",
    "\n",
    "\n",
    "\n",
    "<i>Source: Starting Out with Python (4th Edition)- by Tony Gaddis Pearson</i>"
   ]
  },
  {
   "cell_type": "markdown",
   "metadata": {},
   "source": [
    "### 1.2. Benefits of Using Functions in a Program"
   ]
  },
  {
   "cell_type": "markdown",
   "metadata": {},
   "source": [
    "<ul>\n",
    "<li>Simpler Code</li>\n",
    "<li>Code Reuse</li>\n",
    "    <ul><li>Write the code once and call it multiple times</li></ul>\n",
    "<li>Better Testing</li>\n",
    "    <ul><li>Can test each function individually</li></ul>\n",
    "<li>Faster Development</li>\n",
    "<li>Easier Facilitation of Teamwork</li>\n",
    "    <ul><li>Different team members can write different functions</li></ul>\n",
    "</ul>"
   ]
  },
  {
   "cell_type": "markdown",
   "metadata": {},
   "source": [
    "### 1.3. Void Functions and Value-Returning Functions"
   ]
  },
  {
   "cell_type": "markdown",
   "metadata": {},
   "source": [
    "There are two types of functions: \n",
    "<ol>\n",
    "    <li><b>Void functions:</b> it executes the statements it contains and then terminates.</li>\n",
    "    <li><b>Value returning functions:</b> it executes the statements that it contains, then returns a value back to the statement that called it. Example: <i>input</i>,<i>int</i> and <i>float</i> functions</li>\n",
    "</ol>"
   ]
  },
  {
   "cell_type": "code",
   "execution_count": 1,
   "metadata": {},
   "outputs": [
    {
     "name": "stdout",
     "output_type": "stream",
     "text": [
      "Enter your name: Sheldon Lobo\n"
     ]
    }
   ],
   "source": [
    "name = input('Enter your name: ')"
   ]
  },
  {
   "cell_type": "markdown",
   "metadata": {},
   "source": [
    "## 2. Defining and Calling a Void Function"
   ]
  },
  {
   "cell_type": "markdown",
   "metadata": {},
   "source": [
    "### 2.1. Function Name"
   ]
  },
  {
   "cell_type": "markdown",
   "metadata": {},
   "source": [
    "Function name should be descriptive  of the task carried out by the function.\n",
    "<ul><li>Programmers prefer to use verbs in function names.</li> \n",
    "<ul><li>Example: a function that calculates gross pay might be named <b>calculate_gross_pay</b>.\n",
    "    </li></ul></ul>"
   ]
  },
  {
   "cell_type": "markdown",
   "metadata": {},
   "source": [
    "<b>Note:</b> Python requires that you follow the same rules that you follow when naming variables."
   ]
  },
  {
   "cell_type": "markdown",
   "metadata": {},
   "source": [
    "### 2.2. Defining and Calling a Function"
   ]
  },
  {
   "cell_type": "markdown",
   "metadata": {},
   "source": [
    "<b>Function definition:</b> specifies what function does but it does not cause the function to execute."
   ]
  },
  {
   "cell_type": "markdown",
   "metadata": {},
   "source": [
    "The general format of a function definition:\n",
    "<ul>\n",
    "   <i>def &nbsp;function_name(): \n",
    "<br>&nbsp;&nbsp;&nbsp;&nbsp;&nbsp;&nbsp;&nbsp;&nbsp;statement \n",
    "<br>&nbsp;&nbsp;&nbsp;&nbsp;&nbsp;&nbsp;&nbsp;&nbsp;statement\n",
    "<br>&nbsp;&nbsp;&nbsp;&nbsp;&nbsp;&nbsp;&nbsp;&nbsp;etc.</i>\n",
    "</ul>    "
   ]
  },
  {
   "cell_type": "markdown",
   "metadata": {},
   "source": [
    "<b>Example:</b>"
   ]
  },
  {
   "cell_type": "code",
   "execution_count": 2,
   "metadata": {},
   "outputs": [],
   "source": [
    "def  message(): \n",
    "    print('My name is Julia,') \n",
    "    print('I am 25 years old')"
   ]
  },
  {
   "cell_type": "markdown",
   "metadata": {},
   "source": [
    "<b>To execute a function, you must call it.</b>\n",
    "<ul>When a function is called:\n",
    "    <li>Interpreter jumps to the function and executes statements in the block</li>\n",
    "    <li>Interpreter jumps back to part of program that called the function</li>\n",
    "    <ul><li>Known as function return</li></ul>\n",
    "</ul>"
   ]
  },
  {
   "cell_type": "markdown",
   "metadata": {},
   "source": [
    "<b>Example:</b>"
   ]
  },
  {
   "cell_type": "code",
   "execution_count": 3,
   "metadata": {},
   "outputs": [
    {
     "name": "stdout",
     "output_type": "stream",
     "text": [
      "My name is Julia,\n",
      "I am 25 years old.\n"
     ]
    }
   ],
   "source": [
    "# First, we define a function named message. \n",
    "\n",
    "def name():\n",
    "    print('My name is Julia,') \n",
    "    print('I am 25 years old.')\n",
    "\n",
    "# Call the message function. \n",
    "name()"
   ]
  },
  {
   "cell_type": "markdown",
   "metadata": {},
   "source": [
    "<img src='https://www.dropbox.com/s/65ejthywyi2ns2l/The%20function%20definition%20and%20the%20function%20call.png?raw=1'/>\n",
    "\n",
    "<i>Source: Starting Out with Python (4th Edition)- by Tony Gaddis Pearson</i>"
   ]
  },
  {
   "cell_type": "code",
   "execution_count": 4,
   "metadata": {},
   "outputs": [
    {
     "name": "stdout",
     "output_type": "stream",
     "text": [
      "Hello from a function\n"
     ]
    }
   ],
   "source": [
    "def my_function():\n",
    "    print(\"Hello from a function\")\n",
    "\n",
    "my_function()"
   ]
  },
  {
   "cell_type": "markdown",
   "metadata": {},
   "source": [
    "<b>Note:</b> It is possible to define many functions in a program.  "
   ]
  },
  {
   "cell_type": "markdown",
   "metadata": {},
   "source": [
    "<b>main function</b> is called when the program starts. \n",
    "<ul><li>Calls other functions in the program as they are needed.</li></ul>"
   ]
  },
  {
   "cell_type": "markdown",
   "metadata": {},
   "source": [
    "<b>Example:</b>"
   ]
  },
  {
   "cell_type": "code",
   "execution_count": 5,
   "metadata": {},
   "outputs": [
    {
     "name": "stdout",
     "output_type": "stream",
     "text": [
      "I have a message for you.\n",
      "My name is Julia,\n",
      "I am 25 years old.\n",
      "Goodbye!\n"
     ]
    }
   ],
   "source": [
    "# define the main function.\n",
    "def main():\n",
    "    print('I have a message for you.') \n",
    "    message()\n",
    "    print('Goodbye!')\n",
    "\n",
    "# Next we define the message function. \n",
    "def message():\n",
    "    print('My name is Julia,')\n",
    "    print('I am 25 years old.')\n",
    "    \n",
    "# Call the main function. \n",
    "main()"
   ]
  },
  {
   "cell_type": "markdown",
   "metadata": {},
   "source": [
    "<b>Example:</b>"
   ]
  },
  {
   "cell_type": "code",
   "execution_count": 6,
   "metadata": {},
   "outputs": [
    {
     "name": "stdout",
     "output_type": "stream",
     "text": [
      "Hello\n",
      "My name is Julia\n",
      "press Enter to see Message1.\n",
      "This is an automatic message\n",
      "press Enter to see Message2.\n",
      "This message test the correctness \n",
      "of your program\n"
     ]
    }
   ],
   "source": [
    "def main():\n",
    "    start_message()\n",
    "    input('press Enter to see Message1.')\n",
    "    message1()\n",
    "    input('press Enter to see Message2.')\n",
    "    message2()\n",
    "\n",
    "def start_message():\n",
    "    print(\"Hello\")\n",
    "    print(\"My name is Julia\")\n",
    "\n",
    "def message1():\n",
    "    print(\"This is an automatic message\")\n",
    "\n",
    "def message2():\n",
    "    print(\"This message test the correctness \")\n",
    "    print(\"of your program\")\n",
    "    \n",
    "main()"
   ]
  },
  {
   "cell_type": "markdown",
   "metadata": {},
   "source": [
    "### 2.3. Indentation in Python"
   ]
  },
  {
   "cell_type": "markdown",
   "metadata": {},
   "source": [
    "<b>Each block must be indented</b>\n",
    "<ul><li>Lines in block must begin with the same number of spaces</li>\n",
    "    <li>Jupyter indents the lines in a block</li>\n",
    "</ul>"
   ]
  },
  {
   "cell_type": "markdown",
   "metadata": {},
   "source": [
    "<b>Example:</b>"
   ]
  },
  {
   "cell_type": "markdown",
   "metadata": {},
   "source": [
    "<b>Note:</b> Because a function’s local variables are hidden from other functions, the other functions may have their own local variables with the same name."
   ]
  },
  {
   "cell_type": "code",
   "execution_count": 13,
   "metadata": {},
   "outputs": [
    {
     "name": "stdout",
     "output_type": "stream",
     "text": [
      "texas has 1000 birds.\n",
      "california has 3000 birds.\n"
     ]
    }
   ],
   "source": [
    "def main():\n",
    "    texas()\n",
    "    california()\n",
    "\n",
    "def texas():\n",
    "    birds = 1000\n",
    "    print('texas has', birds, 'birds.')\n",
    "    \n",
    "def california():\n",
    "    birds = 3000\n",
    "    print('california has', birds, 'birds.')\n",
    "    \n",
    "main()"
   ]
  },
  {
   "cell_type": "markdown",
   "metadata": {},
   "source": [
    "## 4. Passing Arguments to Functions"
   ]
  },
  {
   "cell_type": "markdown",
   "metadata": {},
   "source": [
    "<b>Arguments:</b> Pieces of data that are sent into a function.\n",
    "<ul><li>Function can use argument in calculations</li>\n",
    "<li><u>When calling the function, the argument is placed in parentheses following the function name</u></li></ul>"
   ]
  },
  {
   "cell_type": "markdown",
   "metadata": {},
   "source": [
    "<b>Parameter variable:</b> Variable that is assigned the value of an argument when the function is called.\n",
    "<ul><li>The parameter and the argument reference the same value</li>\n",
    "    <li>General format: </li>\n",
    "    <ul><li>def function_name (parameter):</li></ul>\n",
    "</ul>\n",
    "<b>Scope of a parameter:</b> the function in which the parameter is used"
   ]
  },
  {
   "cell_type": "markdown",
   "metadata": {},
   "source": [
    "<b>Example:</b>"
   ]
  },
  {
   "cell_type": "code",
   "execution_count": 14,
   "metadata": {},
   "outputs": [
    {
     "name": "stdout",
     "output_type": "stream",
     "text": [
      "10\n"
     ]
    }
   ],
   "source": [
    "def show_double(number):\n",
    "    result = number * 2 \n",
    "    print(result)\n",
    "    \n",
    "show_double(5)"
   ]
  },
  {
   "cell_type": "markdown",
   "metadata": {},
   "source": [
    "<b>Example:</b>"
   ]
  },
  {
   "cell_type": "code",
   "execution_count": 15,
   "metadata": {},
   "outputs": [
    {
     "name": "stdout",
     "output_type": "stream",
     "text": [
      "8\n"
     ]
    }
   ],
   "source": [
    "def main():\n",
    "    a = 2\n",
    "    my_function(a)\n",
    "\n",
    "def my_function(x):\n",
    "    x = x * 4\n",
    "    print(x)\n",
    "\n",
    "main()"
   ]
  },
  {
   "cell_type": "markdown",
   "metadata": {},
   "source": [
    "<b>Example:</b>"
   ]
  },
  {
   "cell_type": "code",
   "execution_count": 16,
   "metadata": {},
   "outputs": [
    {
     "name": "stdout",
     "output_type": "stream",
     "text": [
      "10\n"
     ]
    }
   ],
   "source": [
    "# This program demonstrates an argument being passed to a function.\n",
    "def main(): \n",
    "    value = 5\n",
    "    show_double(value)\n",
    "    \n",
    "def show_double(number):\n",
    "    result = number * 2 \n",
    "    print(result)\n",
    "\n",
    "# Call the main function. \n",
    "main()"
   ]
  },
  {
   "cell_type": "markdown",
   "metadata": {},
   "source": [
    "The value variable is passed as an argument\n",
    "\n",
    "<img src='https://www.dropbox.com/s/5fug66idlz7fp28/The%20value%20variable%20is%20passed%20as%20an%20argument.png?raw=1'/>\n",
    "<i>Source: Starting Out with Python (4th Edition)- by Tony Gaddis Pearson</i>"
   ]
  },
  {
   "cell_type": "markdown",
   "metadata": {},
   "source": [
    "The word <i><u>number</i></u> inside the parentheses is the name of a <b>parameter variable</b>. This variable will be assigned the value of an argument when the function is called."
   ]
  },
  {
   "cell_type": "markdown",
   "metadata": {},
   "source": [
    "The value variable and the number parameter reference the same value\n",
    "<img src='https://www.dropbox.com/s/lykwup9kg6nshfc/The%20value%20variable%20and%20the%20number%20parameter%20reference%20the%20same%20value.png?raw=1'/>\n",
    "\n",
    "<i>Source:Starting Out with Python (4th Edition)- by Tony Gaddis Pearson</i>"
   ]
  },
  {
   "cell_type": "markdown",
   "metadata": {},
   "source": [
    "<b>Examples:</b>"
   ]
  },
  {
   "cell_type": "code",
   "execution_count": 17,
   "metadata": {},
   "outputs": [
    {
     "name": "stdout",
     "output_type": "stream",
     "text": [
      "Hello Emil\n",
      "Hello Tobias\n",
      "Hello Linus\n"
     ]
    }
   ],
   "source": [
    "def my_function(fname):\n",
    "    print(\"Hello\", fname)\n",
    "\n",
    "my_function(\"Emil\")\n",
    "\n",
    "my_function(\"Tobias\")\n",
    "\n",
    "my_function(\"Linus\")"
   ]
  },
  {
   "cell_type": "code",
   "execution_count": 18,
   "metadata": {},
   "outputs": [
    {
     "name": "stdout",
     "output_type": "stream",
     "text": [
      "Hello, Sara. Good Afternoon!\n"
     ]
    }
   ],
   "source": [
    "def main():\n",
    "    name = 'Sara'\n",
    "    greet(name)\n",
    "    \n",
    "def greet(message):\n",
    "    print(\"Hello, \" + message + \". Good Afternoon!\")\n",
    "    \n",
    "main()"
   ]
  },
  {
   "cell_type": "markdown",
   "metadata": {},
   "source": [
    "### 4.1. Passing Multiple Arguments"
   ]
  },
  {
   "cell_type": "markdown",
   "metadata": {},
   "source": [
    "We can write functions that accept multiple arguments.\n",
    "<ul><li>Parameter list replaces single parameter</li>\n",
    "    <li>Parameter list items separated by comma</li></ul>"
   ]
  },
  {
   "cell_type": "markdown",
   "metadata": {},
   "source": [
    "<b>Note: </b>Arguments are passed by position to corresponding parameters\n",
    "<ul><li>First parameter receives value of first argument, second parameter receives value of second argument, etc.</li></ul>"
   ]
  },
  {
   "cell_type": "markdown",
   "metadata": {},
   "source": [
    "<b>Example:</b>"
   ]
  },
  {
   "cell_type": "code",
   "execution_count": 19,
   "metadata": {},
   "outputs": [
    {
     "name": "stdout",
     "output_type": "stream",
     "text": [
      "The sum of 12 and 45 is\n",
      "57\n"
     ]
    }
   ],
   "source": [
    "# This program shows a function that accepts two arguments.\n",
    "def main():\n",
    "    print('The sum of 12 and 45 is')\n",
    "    show_sum(12, 45)\n",
    "\n",
    "# The show_sum function accepts two arguments and displays their sum.\n",
    "def show_sum(num1, num2):\n",
    "    result = num1 + num2 \n",
    "    print(result)\n",
    "\n",
    "main()"
   ]
  },
  {
   "cell_type": "markdown",
   "metadata": {},
   "source": [
    "<img src='https://www.dropbox.com/s/uvktqpxsqw434z1/Two%20arguments%20passed%20to%20two%20parameters.png?raw=1'/>\n",
    "\n",
    "<i>Source: Starting Out with Python (4th Edition)- by Tony Gaddis Pearson</i>"
   ]
  },
  {
   "cell_type": "markdown",
   "metadata": {},
   "source": [
    "<b>Note</b>: When an argument is passed to a function in Python, the function parameter variable will reference the argument’s value. However, any changes that are made to the parameter variable will not affect the argument."
   ]
  },
  {
   "cell_type": "markdown",
   "metadata": {},
   "source": [
    "<b>Example:</b>"
   ]
  },
  {
   "cell_type": "code",
   "execution_count": 20,
   "metadata": {},
   "outputs": [
    {
     "name": "stdout",
     "output_type": "stream",
     "text": [
      "The value is 99\n",
      "I am changing the value.\n",
      "Now the value is 0\n",
      "Back in main the value is 99\n"
     ]
    }
   ],
   "source": [
    "def main():\n",
    "    value = 99\n",
    "    print('The value is', value) \n",
    "    change_me(value)\n",
    "    print('Back in main the value is', value)\n",
    "\n",
    "def change_me(arg):\n",
    "    print('I am changing the value.') \n",
    "    arg = 0\n",
    "    print('Now the value is', arg)\n",
    "\n",
    "# Call the main function.\n",
    "main()"
   ]
  },
  {
   "cell_type": "markdown",
   "metadata": {},
   "source": [
    "### 4.2 Keyword Arguments"
   ]
  },
  {
   "cell_type": "markdown",
   "metadata": {},
   "source": [
    "The Python allows us to write an argument in a way that specify which parameter variable the argument should be passed to:\n",
    "<br>\n",
    "<i>parameter_name=value</i> \n",
    "<br>\n",
    "<b>parameter_name</b> is the name of a parameter variable, and <b>value</b> is the value being passed to that parameter. \n",
    "<br>An argument that is written in accordance with this syntax is known as a <b>keyword argument</b>. "
   ]
  },
  {
   "cell_type": "markdown",
   "metadata": {},
   "source": [
    "<b>Example:</b>"
   ]
  },
  {
   "cell_type": "code",
   "execution_count": 21,
   "metadata": {},
   "outputs": [
    {
     "name": "stdout",
     "output_type": "stream",
     "text": [
      "The simple interest will be $ 1,000.00\n"
     ]
    }
   ],
   "source": [
    "def main():\n",
    "    show_interest(rate=0.01, periods=10, principal=10000.0)\n",
    "\n",
    "def show_interest(principal, rate, periods): \n",
    "    interest = principal * rate * periods \n",
    "    print(f'The simple interest will be ${interest: ,.2f}')\n",
    "\n",
    "main()"
   ]
  },
  {
   "cell_type": "markdown",
   "metadata": {},
   "source": [
    "<b>Example:</b>"
   ]
  },
  {
   "cell_type": "code",
   "execution_count": 22,
   "metadata": {},
   "outputs": [
    {
     "name": "stdout",
     "output_type": "stream",
     "text": [
      "determine the youngest child: \n",
      "The youngest child is Tobia\n"
     ]
    }
   ],
   "source": [
    "def main():\n",
    "    print('determine the youngest child: ')\n",
    "    my_function(child1 = \"Julia\", child2 = \"Alex\", child3 = \"Tobia\")\n",
    "    \n",
    "def my_function(child3, child2,child1):\n",
    "    print(\"The youngest child is \" + child3)\n",
    "\n",
    "main()"
   ]
  },
  {
   "cell_type": "code",
   "execution_count": 23,
   "metadata": {},
   "outputs": [
    {
     "name": "stdout",
     "output_type": "stream",
     "text": [
      "The simple interest will be $ 1,200.00\n"
     ]
    }
   ],
   "source": [
    "def main():\n",
    "    show_interest(0.012,principal=10000.0,periods=10)\n",
    "\n",
    "def show_interest(rate,periods,principal): \n",
    "    interest = principal * rate * periods \n",
    "    print(f'The simple interest will be $ {interest:,.2f}')\n",
    "\n",
    "main()"
   ]
  },
  {
   "cell_type": "markdown",
   "metadata": {},
   "source": [
    "## 5. Global Variables and Global Constants"
   ]
  },
  {
   "cell_type": "markdown",
   "metadata": {},
   "source": [
    "<b>Global variable:</b> created by assignment statement written outside all the functions.\n",
    "<ul><li> Can be accessed by any statement in the program file, including from within a function.</li>\n",
    "</ul>"
   ]
  },
  {
   "cell_type": "markdown",
   "metadata": {},
   "source": [
    "<b>Example:</b>"
   ]
  },
  {
   "cell_type": "code",
   "execution_count": 24,
   "metadata": {},
   "outputs": [
    {
     "name": "stdout",
     "output_type": "stream",
     "text": [
      "30\n"
     ]
    }
   ],
   "source": [
    "value = 30\n",
    "\n",
    "def show_value():\n",
    "    print(value)\n",
    "    \n",
    "show_value()"
   ]
  },
  {
   "cell_type": "markdown",
   "metadata": {},
   "source": [
    "<b>Note:</b> If we want a statement in a function to assign a value to a global variable, we must declare the global variable in the function.\n",
    "<ul>General format: <b>global variable_name</b></ul>"
   ]
  },
  {
   "cell_type": "markdown",
   "metadata": {},
   "source": [
    "<b>Example:<b>"
   ]
  },
  {
   "cell_type": "code",
   "execution_count": 25,
   "metadata": {},
   "outputs": [
    {
     "name": "stdout",
     "output_type": "stream",
     "text": [
      "10\n"
     ]
    }
   ],
   "source": [
    "x = 5\n",
    "\n",
    "def my_function():\n",
    "    global x\n",
    "    x = x * 2\n",
    "    print(x)\n",
    "\n",
    "my_function()"
   ]
  },
  {
   "cell_type": "markdown",
   "metadata": {},
   "source": [
    "<b>Example:<b>"
   ]
  },
  {
   "cell_type": "code",
   "execution_count": 27,
   "metadata": {
    "scrolled": true
   },
   "outputs": [
    {
     "name": "stdout",
     "output_type": "stream",
     "text": [
      "Enter a number: 10\n",
      "The number you entered is 10\n"
     ]
    }
   ],
   "source": [
    "number = 0\n",
    "\n",
    "def main(): \n",
    "    global number\n",
    "    number = int(input('Enter a number: ')) \n",
    "    show_number()\n",
    "\n",
    "def show_number():\n",
    "    print('The number you entered is', number)\n",
    "\n",
    "\n",
    "main()\n"
   ]
  },
  {
   "cell_type": "markdown",
   "metadata": {},
   "source": [
    "<b>Example:<b>"
   ]
  },
  {
   "cell_type": "code",
   "execution_count": 28,
   "metadata": {},
   "outputs": [
    {
     "name": "stdout",
     "output_type": "stream",
     "text": [
      "local a: 10\n",
      "global a: 5\n"
     ]
    }
   ],
   "source": [
    "a = 5\n",
    "\n",
    "def my_function():\n",
    "    a = 10\n",
    "    print(\"local a:\", a)\n",
    "\n",
    "\n",
    "my_function()\n",
    "print(\"global a:\", a)"
   ]
  },
  {
   "cell_type": "markdown",
   "metadata": {},
   "source": [
    "<b>Reasons to avoid using global variables:</b>\n",
    "<ul>\n",
    "    <li>Global variables making debugging difficult. \n",
    "        <ul><li>Many locations in the code could be causing a wrong variable value</li></ul>\n",
    "    <li>Functions that use global variables are usually dependent on those variables.\n",
    "        <ul><li>Makes function hard to transfer to another program.</li></ul>\n",
    "    <li>Global variables make a program hard to understand.</li>\n",
    "</ul>"
   ]
  },
  {
   "cell_type": "markdown",
   "metadata": {},
   "source": [
    "<b>Global constant:</b> global name that references a value that cannot be changed\n",
    "<ul><li>Permissible to use global constants in a program</li>\n",
    "<li>To simulate global constant in Python, create global variable and do not re-declare it within functions</li></ul>\n"
   ]
  },
  {
   "cell_type": "code",
   "execution_count": 29,
   "metadata": {},
   "outputs": [
    {
     "name": "stdout",
     "output_type": "stream",
     "text": [
      "Enter the gross pay: 50000\n",
      "Enter the amount of bonuses: 300\n",
      "Contribution for gross pay: $1,000.00\n",
      "Contribution for bonuses: $6.00\n"
     ]
    }
   ],
   "source": [
    "# The following is used as a global constant \n",
    "# the contribution rate.\n",
    "CONTRIBUTION_RATE = 0.02\n",
    "\n",
    "def main():\n",
    "    gross_pay = float(input('Enter the gross pay: ')) \n",
    "    bonus = float(input('Enter the amount of bonuses: ')) \n",
    "    show_pay_contrib(gross_pay)\n",
    "    show_bonus_contrib(bonus)\n",
    "\n",
    "# The show_pay_contrib function accepts the gross pay as an argument.\n",
    "\n",
    "def show_pay_contrib(gross):\n",
    "    contrib = gross * CONTRIBUTION_RATE \n",
    "    print('Contribution for gross pay: $',format(contrib, ',.2f'), sep='')\n",
    "\n",
    "# The show_bonus_contrib function accepts the bonus amount as an argument \n",
    "\n",
    "def show_bonus_contrib(bonus):\n",
    "    contrib = bonus * CONTRIBUTION_RATE \n",
    "    print('Contribution for bonuses: $',format(contrib, ',.2f'), sep='')\n",
    "\n",
    "# Call the main function. \n",
    "main()"
   ]
  },
  {
   "cell_type": "markdown",
   "metadata": {},
   "source": [
    "## 6. Introduction to Value-Returning Functions: Generating Random Numbers"
   ]
  },
  {
   "cell_type": "markdown",
   "metadata": {},
   "source": [
    "<b>Void function</b>: group of statements within a program for performing a specific task.\n",
    "<ul><li>Call function when you need to perform the task.</li></ul>\n",
    "<b>Value-returning function</b>: similar to void function, <u>returns a value</u>.\n",
    "<ul><li>Value returned to part of program that called the function when function finishes executing.</li></ul>"
   ]
  },
  {
   "cell_type": "markdown",
   "metadata": {},
   "source": [
    "### 6.1. Standard Library Functions and the <i>import</i> Statement"
   ]
  },
  {
   "cell_type": "markdown",
   "metadata": {},
   "source": [
    "<b>Standard library</b>: library of pre-written functions that comes with Python\n",
    "<ul>\n",
    "    <li>Library functions perform tasks that programmers commonly need</li>\n",
    "    <ul><li>Example: print, input, range</li>\n",
    "        <li>Viewed by programmers as a “black box”</li>\n",
    "    </ul>\n",
    "</ul>\n",
    "Some library functions built into Python interpreter. \n",
    "<ul><li>To use, just call the function.</ul></li>"
   ]
  },
  {
   "cell_type": "markdown",
   "metadata": {},
   "source": [
    "<b>Modules</b>: files that stores functions of the standard library.\n",
    "<ul>\n",
    "    <li>Help organize library functions not built into the interpreter.</li>\n",
    "    <ul>\n",
    "        <li>For example, functions for performing math operations are stored together in a module</li>\n",
    "    </ul>\n",
    "    <li>Copied to computer when we install Python.</li>\n",
    "</ul>\n",
    "To call a function stored in a module, need to write an <b>import</b> statement at the top of the program.\n",
    "<ul>\n",
    "    <li>Format:&nbsp;&nbsp;<i>import&nbsp;&nbsp; module_name</i></li>\n",
    "    <li>Example:The <i>math</i>. module contains various mathematical functions. If we want to use any of the math module’s functions in a program, at the top of the program we should write: &nbsp;&nbsp;<i>import &nbsp;&nbsp;math</i></li>  \n",
    "</ul>"
   ]
  },
  {
   "cell_type": "markdown",
   "metadata": {},
   "source": [
    "Because we do not see the internal workings of library functions, many programmers think of them as <i>black boxes</i>. \n",
    "<br>\n",
    "The term “black box” is used to describe any mechanism that accepts input, performs some operation  using the input, and produces output."
   ]
  },
  {
   "cell_type": "markdown",
   "metadata": {},
   "source": [
    "<img src='https://www.dropbox.com/s/200c88xesaqrt8v/A%20library%20function%20viewed%20as%20a%20black%20box.png?raw=1'/>\n",
    "\n",
    "<i>Source: Starting Out with Python (4th Edition)- by Tony Gaddis Pearson</i>"
   ]
  },
  {
   "cell_type": "markdown",
   "metadata": {},
   "source": [
    "### 6.2. Generating Random Numbers"
   ]
  },
  {
   "cell_type": "markdown",
   "metadata": {},
   "source": [
    "<b>Random numbers</b> are useful in a lot of programming tasks.\n",
    "<br>\n",
    "<b>Random module</b> includes library functions for working with random numbers.\n",
    "<br><br>\n",
    "To use any of these functions, we first need to write this <b>import</b> statement at the top of your program:\n",
    "<br>\n",
    "<i>import&nbsp;&nbsp;random</i>"
   ]
  },
  {
   "cell_type": "markdown",
   "metadata": {},
   "source": [
    "<b>Dot notation</b> notation for calling a function belonging to a module\n",
    "<ul>Format: module_name.function_name( )</ul>"
   ]
  },
  {
   "cell_type": "markdown",
   "metadata": {},
   "source": [
    "<b>randint function</b> generates a random number in the range provided by the arguments.\n",
    "<ul>\n",
    "    <li>Returns the random number to part of program that called the function.</li>\n",
    "    <li>Returned integer can be used anywhere that an integer would be used.</li>\n",
    "    <li>You can experiment with the function in interactive mode.</li>\n",
    "</ul>"
   ]
  },
  {
   "cell_type": "markdown",
   "metadata": {},
   "source": [
    "<b>Example:</b>"
   ]
  },
  {
   "cell_type": "markdown",
   "metadata": {},
   "source": [
    "<img src='https://www.dropbox.com/s/w1gyxc9hun9nrdf/A%20statement%20that%20calls%20the%20random%20function.png?raw=1'/>\n",
    "<img src='https://www.dropbox.com/s/yuyl3gu93iuqy6o/The%20random%20function%20returns%20a%20value.png?raw=1'/>\n",
    "<i>Source: Starting Out with Python (4th Edition)- by Tony Gaddis Pearson</i>"
   ]
  },
  {
   "cell_type": "code",
   "execution_count": 30,
   "metadata": {},
   "outputs": [
    {
     "name": "stdout",
     "output_type": "stream",
     "text": [
      "the number is 275\n"
     ]
    }
   ],
   "source": [
    "import random\n",
    "\n",
    "def main():\n",
    "    number = random.randint (1, 300)\n",
    "    print('the number is', number)\n",
    "main()"
   ]
  },
  {
   "cell_type": "code",
   "execution_count": 31,
   "metadata": {},
   "outputs": [
    {
     "name": "stdout",
     "output_type": "stream",
     "text": [
      "97\n",
      "37\n",
      "34\n",
      "85\n"
     ]
    }
   ],
   "source": [
    "import random\n",
    "\n",
    "def main():\n",
    "    for count in range(4):\n",
    "        number = random.randint (1, 100)\n",
    "        print(number)\n",
    "\n",
    "main()"
   ]
  },
  {
   "cell_type": "markdown",
   "metadata": {},
   "source": [
    "<b>Example:</b>"
   ]
  },
  {
   "cell_type": "code",
   "execution_count": 32,
   "metadata": {},
   "outputs": [
    {
     "data": {
      "text/plain": [
       "94"
      ]
     },
     "execution_count": 32,
     "metadata": {},
     "output_type": "execute_result"
    }
   ],
   "source": [
    "#The statement assigns a random number in the range of 0 through 9 to the number variable\n",
    "number = random.randrange(100)\n",
    "number"
   ]
  },
  {
   "cell_type": "code",
   "execution_count": 33,
   "metadata": {},
   "outputs": [
    {
     "data": {
      "text/plain": [
       "8"
      ]
     },
     "execution_count": 33,
     "metadata": {},
     "output_type": "execute_result"
    }
   ],
   "source": [
    "#The statement specifies both a starting value and an ending limit for the sequence\n",
    "number = random.randrange(5,10) # a random number in the range of 5 through 9 will be assigned to number. \n",
    "number"
   ]
  },
  {
   "cell_type": "code",
   "execution_count": 34,
   "metadata": {},
   "outputs": [
    {
     "data": {
      "text/plain": [
       "10"
      ]
     },
     "execution_count": 34,
     "metadata": {},
     "output_type": "execute_result"
    }
   ],
   "source": [
    "#The statement specifies a starting value, an ending limit, and a step value\n",
    "number = random.randrange(0, 101, 10)\n",
    "number"
   ]
  },
  {
   "cell_type": "markdown",
   "metadata": {},
   "source": [
    "<b>random function</b> returns a random <b>float</b> in the range of 0.0 and 1.0\n",
    "<ul><li>Does not receive arguments</ul></li>"
   ]
  },
  {
   "cell_type": "markdown",
   "metadata": {},
   "source": [
    "<b>Example:</b>"
   ]
  },
  {
   "cell_type": "code",
   "execution_count": 35,
   "metadata": {},
   "outputs": [
    {
     "data": {
      "text/plain": [
       "0.9535337185447449"
      ]
     },
     "execution_count": 35,
     "metadata": {},
     "output_type": "execute_result"
    }
   ],
   "source": [
    "number = random.random()\n",
    "number"
   ]
  },
  {
   "cell_type": "markdown",
   "metadata": {},
   "source": [
    "<b>uniform function</b> returns a random float but allows user to specify range"
   ]
  },
  {
   "cell_type": "code",
   "execution_count": 36,
   "metadata": {},
   "outputs": [
    {
     "data": {
      "text/plain": [
       "33.56905317285856"
      ]
     },
     "execution_count": 36,
     "metadata": {},
     "output_type": "execute_result"
    }
   ],
   "source": [
    "number = random.uniform(20,34)\n",
    "number"
   ]
  },
  {
   "cell_type": "markdown",
   "metadata": {},
   "source": [
    "Random number created by functions in random module are actually pseudo-random numbers"
   ]
  },
  {
   "cell_type": "markdown",
   "metadata": {},
   "source": [
    "## 7. Writing Your Own Value-Returning Functions"
   ]
  },
  {
   "cell_type": "markdown",
   "metadata": {},
   "source": [
    "To write a value-returning function, you write a simple function and add one or more <b>return</b> statements."
   ]
  },
  {
   "cell_type": "markdown",
   "metadata": {},
   "source": [
    "The general format of a value-returning function definition:\n",
    "    <ul>\n",
    "   <i>def &nbsp;function_name(): \n",
    "<br>&nbsp;&nbsp;&nbsp;&nbsp;&nbsp;&nbsp;&nbsp;&nbsp;statement \n",
    "<br>&nbsp;&nbsp;&nbsp;&nbsp;&nbsp;&nbsp;&nbsp;&nbsp;statement\n",
    "<br>&nbsp;&nbsp;&nbsp;&nbsp;&nbsp;&nbsp;&nbsp;&nbsp;etc. \n",
    "       <br>&nbsp;&nbsp;&nbsp;&nbsp;&nbsp;&nbsp;&nbsp;&nbsp;<b>return expression</b></i>\n",
    "    </ul>"
   ]
  },
  {
   "cell_type": "markdown",
   "metadata": {},
   "source": [
    "<ul>\n",
    "    <li>The value for <b>expression</b> will be returned to the part of the program that called the function.</li>\n",
    "<li>The expression in the <i>return</i> statement can be a complex expression, such as a sum of two variables or the result of another value-returning function.</li>\n",
    "    </ul>"
   ]
  },
  {
   "cell_type": "markdown",
   "metadata": {},
   "source": [
    "<b>Examples:</b>"
   ]
  },
  {
   "cell_type": "code",
   "execution_count": 37,
   "metadata": {},
   "outputs": [
    {
     "name": "stdout",
     "output_type": "stream",
     "text": [
      "57\n"
     ]
    }
   ],
   "source": [
    "def sum(num1, num2):\n",
    "    result = num1 + num2 \n",
    "    return result\n",
    "\n",
    "\n",
    "res = sum(12,45)\n",
    "print(res)"
   ]
  },
  {
   "cell_type": "code",
   "execution_count": 38,
   "metadata": {},
   "outputs": [],
   "source": [
    "def sum(num1, num2): \n",
    "    return num1 + num2"
   ]
  },
  {
   "cell_type": "code",
   "execution_count": 39,
   "metadata": {},
   "outputs": [
    {
     "name": "stdout",
     "output_type": "stream",
     "text": [
      "Enter your age: 27\n",
      "Enter your best friend's age: 30\n",
      "Together you are 57 years old.\n"
     ]
    }
   ],
   "source": [
    "def main():\n",
    "    first_age = int(input('Enter your age: '))\n",
    "    second_age = int(input(\"Enter your best friend's age: \"))\n",
    "    total = sum(first_age, second_age)\n",
    "    print('Together you are', total, 'years old.')\n",
    "\n",
    "def sum(num1, num2):\n",
    "    result = num1 + num2 \n",
    "    return result\n",
    "main()"
   ]
  },
  {
   "cell_type": "markdown",
   "metadata": {},
   "source": [
    "### 7.1. How to Use Value-Returning Functions"
   ]
  },
  {
   "cell_type": "markdown",
   "metadata": {},
   "source": [
    "Value-returning function can be useful in specific situations:\n",
    "<ul>\n",
    "    <li>Have function prompt user for input and return the user’s input</li>\n",
    "    <ul>\n",
    "        <li>Example: \n",
    "            <br><i>def get_regular_price():\n",
    "            <br>\n",
    "                   price = float(input(\"Enter the item's regular price: \"))\n",
    "            <br>\n",
    "                   return price\n",
    "        <br><br>\n",
    "            # Get the item's regular price. \n",
    "            <br>\n",
    "            reg_price = get_regular_price()</i>\n",
    "        </li>\n",
    "        <br>\n",
    "    </ul>\n",
    "    <li>Simplify mathematical expressions</li>\n",
    "    <li>Complex calculations that need to be repeated throughout the program</li>\n",
    "    <ul><li>Example: \n",
    "            <br>\n",
    "        <i>sale_price = reg_price – (reg_price * DISCOUNT_PERCENTAGE)\n",
    "            <br><br>\n",
    "                we can simplify the satement:\n",
    "            <br>\n",
    "                def discount(price):\n",
    "            <br>    \n",
    "                return price * DISCOUNT_PERCENTAGE\n",
    "            <br><br>\n",
    "                sale_price = reg_price − discount(reg_price)</i>\n",
    "        </li>\n",
    "        <br>\n",
    "    </ul>\n",
    "</ul></ul>\n"
   ]
  },
  {
   "cell_type": "code",
   "execution_count": 40,
   "metadata": {},
   "outputs": [
    {
     "name": "stdout",
     "output_type": "stream",
     "text": [
      "Enter the item's regular price: 500\n",
      "The sale price is $400.00\n"
     ]
    }
   ],
   "source": [
    "# This program calculates a retail item's sale price.\n",
    "\n",
    "# DISCOUNT_PERCENTAGE is used as a global constant for the discount percentage. \n",
    "DISCOUNT_PERCENTAGE = 0.20\n",
    "\n",
    "def main():\n",
    "\n",
    "    # Get the item's regular price. \n",
    "    reg_price = get_regular_price()\n",
    "\n",
    "    # Calculate the sale price.\n",
    "    sale_price = reg_price - discount(reg_price)\n",
    "\n",
    "    # Display the sale price.\n",
    "\n",
    "    print('The sale price is $', format(sale_price, ',.2f'), sep='')\n",
    "\n",
    "    # The get_regular_price function prompts the user to enter an item's regular price and it # returns that value.\n",
    "\n",
    "def get_regular_price():\n",
    "    price = float(input(\"Enter the item's regular price: \")) \n",
    "    return price\n",
    "\n",
    "# The discount function accepts an item's price # as an argument and returns the amount of the # discount, specified by DISCOUNT_PERCENTAGE.\n",
    "def discount(price):\n",
    "    return price * DISCOUNT_PERCENTAGE\n",
    "\n",
    "\n",
    "main()"
   ]
  },
  {
   "cell_type": "markdown",
   "metadata": {},
   "source": [
    "### 7.2. Returning Strings"
   ]
  },
  {
   "cell_type": "markdown",
   "metadata": {},
   "source": [
    "We can write functions that return strings."
   ]
  },
  {
   "cell_type": "markdown",
   "metadata": {},
   "source": [
    "<b>Example:</b>"
   ]
  },
  {
   "cell_type": "code",
   "execution_count": 41,
   "metadata": {},
   "outputs": [
    {
     "name": "stdout",
     "output_type": "stream",
     "text": [
      "Enter your name: sheldon \n"
     ]
    },
    {
     "data": {
      "text/plain": [
       "'sheldon '"
      ]
     },
     "execution_count": 41,
     "metadata": {},
     "output_type": "execute_result"
    }
   ],
   "source": [
    "def get_name():\n",
    "# Get the user's name.\n",
    "    name = input('Enter your name: ') \n",
    "# Return the name.\n",
    "    return name\n",
    "\n",
    "get_name()"
   ]
  },
  {
   "cell_type": "markdown",
   "metadata": {},
   "source": [
    "### 7.3. Returning Boolean Values"
   ]
  },
  {
   "cell_type": "markdown",
   "metadata": {},
   "source": [
    "<b>Boolean function</b>: returns either <b>True</b> or <b>False</b>\n",
    "<ul>\n",
    "    <li>Use to test a condition then return either True or False to indicate whether the condition exists.</li>\n",
    "<ul>Common calculations, such as whether a number is even, can be easily repeated by calling a function.</ul>\n",
    "<li>Use to simplifying complex input validation code.</li>\n",
    "</ul>"
   ]
  },
  {
   "cell_type": "markdown",
   "metadata": {},
   "source": [
    "<b>Example:</b>"
   ]
  },
  {
   "cell_type": "code",
   "execution_count": 42,
   "metadata": {},
   "outputs": [
    {
     "name": "stdout",
     "output_type": "stream",
     "text": [
      "Enter a number: 30\n",
      "The number is even.\n"
     ]
    }
   ],
   "source": [
    "number = int(input('Enter a number: ')) \n",
    "if (number % 2) == 0:\n",
    "    print('The number is even.') \n",
    "else:\n",
    "    print('The number is odd.')"
   ]
  },
  {
   "cell_type": "code",
   "execution_count": null,
   "metadata": {},
   "outputs": [],
   "source": [
    "# Same program with function"
   ]
  },
  {
   "cell_type": "code",
   "execution_count": 43,
   "metadata": {},
   "outputs": [
    {
     "name": "stdout",
     "output_type": "stream",
     "text": [
      "Enter a number : 40\n",
      "The number is even\n"
     ]
    }
   ],
   "source": [
    "def main():\n",
    "    number = int(input('Enter a number : '))\n",
    "\n",
    "    if is_even(number):\n",
    "        print('The number is even')\n",
    "    else:\n",
    "        print('The number is odd')\n",
    "    \n",
    "def is_even(num):\n",
    "    if num%2==0:\n",
    "        status =True\n",
    "    else:\n",
    "        status = False\n",
    "    return status\n",
    "\n",
    "main()"
   ]
  },
  {
   "cell_type": "code",
   "execution_count": null,
   "metadata": {},
   "outputs": [],
   "source": [
    "model = int(input('Enter the model number: '))\n",
    "# Validate the model number.\n",
    "while model != 100 and model != 200 and model != 300:\n",
    "    print('The valid model numbers are 100, 200 and 300.') \n",
    "    model = int(input('Enter a valid model number: '))"
   ]
  },
  {
   "cell_type": "code",
   "execution_count": null,
   "metadata": {},
   "outputs": [],
   "source": [
    "# Same program with function"
   ]
  },
  {
   "cell_type": "code",
   "execution_count": 46,
   "metadata": {},
   "outputs": [
    {
     "name": "stdout",
     "output_type": "stream",
     "text": [
      "Enter the model number: 400\n",
      "The valid model numbers are 100, 200 and 300.\n",
      "Enter a valid model number: 100\n"
     ]
    }
   ],
   "source": [
    "def main():\n",
    "    model = int(input('Enter the model number: '))\n",
    "    # Validate the model number. \n",
    "    while is_invalid(model):\n",
    "        print('The valid model numbers are 100, 200 and 300.') \n",
    "        model = int(input('Enter a valid model number: '))\n",
    "    \n",
    "def is_invalid(mod_num):\n",
    "    if mod_num != 100 and mod_num != 200 and mod_num != 300:\n",
    "        status = True \n",
    "    else:\n",
    "        status = False \n",
    "    return status\n",
    "\n",
    "main()"
   ]
  },
  {
   "cell_type": "markdown",
   "metadata": {},
   "source": [
    "### 7.4. Returning Multiple Values"
   ]
  },
  {
   "cell_type": "markdown",
   "metadata": {},
   "source": [
    "In Python, a function can return multiple values.\n",
    "<ul>\n",
    "    <li>Specified after the <i>return</i> statement separated by commas.</li>\n",
    "<ul>\n",
    "General format: \n",
    "<br><i> return expression1, expression2, etc.</i>\n",
    "    </ul>\n",
    "<li>When you call such a function in an assignment statement, you need a separate variable on the left side of the <b>=&nbsp;</b> operator to receive each returned value.</li>\n",
    "</ul>\n"
   ]
  },
  {
   "cell_type": "markdown",
   "metadata": {},
   "source": [
    "<b>Example:</b>"
   ]
  },
  {
   "cell_type": "code",
   "execution_count": 47,
   "metadata": {},
   "outputs": [
    {
     "name": "stdout",
     "output_type": "stream",
     "text": [
      "Enter your first name: sheldon\n",
      "Enter your last name: lobo\n"
     ]
    }
   ],
   "source": [
    "def get_name():\n",
    "# Get the user's first and last names. \n",
    "    first = input('Enter your first name: ') \n",
    "    last = input('Enter your last name: ')\n",
    "# Return both names. \n",
    "    return first, last\n",
    "\n",
    "first_name, last_name = get_name()"
   ]
  },
  {
   "cell_type": "markdown",
   "metadata": {},
   "source": [
    "## 8. The <i>math</i> Module"
   ]
  },
  {
   "cell_type": "markdown",
   "metadata": {},
   "source": [
    "<b>math module</b>: part of standard library that contains functions that are useful for performing mathematical calculations.\n",
    "<ul>\n",
    "<li>Typically accept one or more values as arguments, perform mathematical operation, and return the result.</li>\n",
    "    <li>Use of module requires an <i>import math</i> statement.</li>\n"
   ]
  },
  {
   "cell_type": "markdown",
   "metadata": {},
   "source": [
    "<img src= 'https://www.dropbox.com/s/ldci2mhldntkos6/math%20module.png?raw=1' />\n",
    "<i>Source:</i>  "
   ]
  },
  {
   "cell_type": "markdown",
   "metadata": {},
   "source": [
    "<b>Example:</b>"
   ]
  },
  {
   "cell_type": "code",
   "execution_count": 48,
   "metadata": {},
   "outputs": [
    {
     "name": "stdout",
     "output_type": "stream",
     "text": [
      "Enter a number: 30\n",
      "The square root of 30.0 0 is 5.477225575051661\n"
     ]
    }
   ],
   "source": [
    "import math\n",
    "\n",
    "def main():\n",
    "    number = float(input('Enter a number: '))\n",
    "# Get the square root of the number. \n",
    "    square_root = math.sqrt(number)\n",
    "# Display the square root.\n",
    "    print('The square root of', number, '0 is', square_root)\n",
    "# Call the main function. \n",
    "main()"
   ]
  },
  {
   "cell_type": "markdown",
   "metadata": {},
   "source": [
    "<ul><li>The math module defines variables <b><i>pi and e</i></b>, which are assigned the mathematical values for <i>pi and e</i></li>\n",
    "<ul>\n",
    "    <li>Can be used in equations that require these values, to get more accurate results</li>\n",
    "</ul>\n",
    "    <li>Variables must also be called using the dot notation</li>\n",
    "</ul>"
   ]
  },
  {
   "cell_type": "markdown",
   "metadata": {},
   "source": [
    "<b>Example:</b>"
   ]
  },
  {
   "cell_type": "code",
   "execution_count": 49,
   "metadata": {},
   "outputs": [
    {
     "name": "stdout",
     "output_type": "stream",
     "text": [
      "Enter the radius30\n",
      "2827.4333882308138\n"
     ]
    }
   ],
   "source": [
    "radius = int(input('Enter the radius'))\n",
    "\n",
    "import math\n",
    "\n",
    "circle_area = math.pi * radius**2\n",
    "\n",
    "print(circle_area)"
   ]
  }
 ],
 "metadata": {
  "kernelspec": {
   "display_name": "Python 3 (ipykernel)",
   "language": "python",
   "name": "python3"
  },
  "language_info": {
   "codemirror_mode": {
    "name": "ipython",
    "version": 3
   },
   "file_extension": ".py",
   "mimetype": "text/x-python",
   "name": "python",
   "nbconvert_exporter": "python",
   "pygments_lexer": "ipython3",
   "version": "3.9.7"
  }
 },
 "nbformat": 4,
 "nbformat_minor": 4
}
