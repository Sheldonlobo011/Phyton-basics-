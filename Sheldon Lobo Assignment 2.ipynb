{
 "cells": [
  {
   "cell_type": "markdown",
   "metadata": {},
   "source": [
    "<h1 style='color:blue' align=center>Assignment#2</h1>"
   ]
  },
  {
   "cell_type": "code",
   "execution_count": null,
   "metadata": {},
   "outputs": [],
   "source": [
    "# Student Name: <sheldon lobo>"
   ]
  },
  {
   "cell_type": "markdown",
   "metadata": {},
   "source": [
    "<b>Q#1</b> Write a program that contains following functions:\n",
    "<ol>\n",
    "    <li>Define function <span style='color:blue'>rand_generator( )</span> that generates a random integer number between 100-2000 and <span style='color:red'>return</span> it.</li>\n",
    "    <li>Define function <span style='color:blue'>check_odd( )</span> that gets a number as an input paramter and <span style='color:red'>return</span> True if the input parameter is an even number and <span style='color:red'>return</span> False otherwise.</li>\n",
    "    <li>Define a function <span style='color:blue'>main( )</span> that first asks the user how many random numbers should be generated and then uses the above two functions to generate and then count the total number of odd numbers and even numbers in the set of randomly generated numbers and display them to user.</li>\n",
    "</ol>\n",
    "Consider all the exceptions may be rised in the program. Your code should have the name of at least two exception."
   ]
  },
  {
   "cell_type": "code",
   "execution_count": 6,
   "metadata": {},
   "outputs": [
    {
     "name": "stdout",
     "output_type": "stream",
     "text": [
      "How many random numbers shall be generated?: 3\n",
      "Random number 1 generated =  275\n",
      "Random number 2 generated =  1179\n",
      "Random number 3 generated =  268\n",
      "Total odd number =  2\n",
      "Total even numbers =  1\n"
     ]
    }
   ],
   "source": [
    "# Write Your Answer for Q#1 Over Here \n",
    "#import random function \n",
    "\n",
    "import random \n",
    "\n",
    "#Defining rand_generator function in order to generate rand numbers using randit() method in provided range\n",
    "def rand_generator():\n",
    "    A=random.randint(100,2000)\n",
    "    return A\n",
    "\n",
    "#Defining check_odd function in order to check the type(odd or even) of generated number\n",
    "def check_odd(para):\n",
    "    if para%2!=0:\n",
    "        return False\n",
    "    else:\n",
    "        return True\n",
    "    \n",
    "def main():\n",
    "    #defining variables odd_count and even_count in order to display total odd and even numbers\n",
    "    odd=0\n",
    "    even=0\n",
    "    #input from the user\n",
    "    a=int(input('How many random numbers shall be generated?: '))\n",
    "    for item in range(a):\n",
    "        #calling method to generate random numbers\n",
    "        b=rand_generator()\n",
    "        #displaying total generated random numbers\n",
    "        print(\"Random number\",(item+1),\"generated = \",b)\n",
    "        #logic\n",
    "        if check_odd(b)==True:\n",
    "            even+=1\n",
    "        else:\n",
    "            odd+=1\n",
    "        \n",
    "    #displaying total odd or even number\n",
    "    print(\"Total odd number = \",odd)\n",
    "    print(\"Total even numbers = \",even)\n",
    "            \n",
    "        \n",
    "main()"
   ]
  },
  {
   "cell_type": "markdown",
   "metadata": {},
   "source": [
    "<b>Q#2</b> Create a file named Circle.py, and add two functions to the file that calculates the area and perimeter of a circle using its radius. Next, use <span style='color:red'><b>import</b></span> command to import the functions into your environment. Finally, write a program that asks the user to enter the radius of the circle and then use the created functions in Circle.py to display the area and perimeter of the circle. \n",
    "<br>Consider all the exceptions may be rised in the program.Your code should have the name of at least two exception."
   ]
  },
  {
   "cell_type": "code",
   "execution_count": 1,
   "metadata": {},
   "outputs": [
    {
     "name": "stdout",
     "output_type": "stream",
     "text": [
      "Cannot import from the file\n"
     ]
    }
   ],
   "source": [
    "# Write Your Answer for Q#2 Over Here\n",
    "def main():\n",
    "    try:\n",
    "        from Circle import area_circle,perimeter_circle\n",
    "\n",
    "        n = float(input(\"Enter the edge of the circle \"))\n",
    "\n",
    "        print(\"Area of circle : \",area_circle(n))\n",
    "        print(\"Perimeter of circle : \",perimeter_circle(n))\n",
    "    except ImportError as ie:\n",
    "        print(\"Cannot import from the file\")\n",
    "        return\n",
    "    except FileNotFoundError as fe:\n",
    "        print(\"Cannot find the file\")\n",
    "        return\n",
    "    except ValueError as ve:\n",
    "        print(\"Please enter correct values\")\n",
    "    return\n",
    "\n",
    "main()"
   ]
  },
  {
   "cell_type": "markdown",
   "metadata": {},
   "source": [
    "<b>Q#3</b> Write a program that reads all of the numbers stored in `Numbers.txt` file, The following instruction provides details on how you need to perform the task. \n",
    "<ul>\n",
    "<li>Ask the user to enter the number of lines he/she wants to view. If the file has fewer lines than the input number, the program should display the entire contents of the file. Otherwise, the program only needs to display the number of lines that the user specified. Ask the user to enter the number of lines he or she wants to view. If the file contains fewer lines than the input number, all of the numbers in the file should be added to the list. Then the program should display the follwing data:</li>\n",
    "<ul>\n",
    "<li>Index of the lowest number in the list.</li>\n",
    "<li>Index of the highest number in the list.</li>\n",
    "<li>The average of the numbers in the list.</li>\n",
    "    <li> Reverse of all the numbers in the list.</li>\n",
    "</ul></ul>\n",
    "<li>Handle the following exceptions:</li>\n",
    "<ul>\n",
    "<li>It should handle any exceptions that are raised when the specified filename cannot be found or opened.</li>\n",
    "<li>It should handle any exceptions that are raised when a non-integer value is given as a number of lines.</li>\n",
    "<li>It should handle any exceptions that are raised when the items that are read from the file are not converted to a number.</li>\n",
    "<li>It should handle any other exceptions.</li>\n",
    "    </ul></ul>"
   ]
  },
  {
   "cell_type": "code",
   "execution_count": 13,
   "metadata": {},
   "outputs": [
    {
     "name": "stdout",
     "output_type": "stream",
     "text": [
      "Enter the required number of lines: 4\n",
      "Filtered File Numbers [56845, 420125, 795122, 777541]\n",
      "Index of Minimum element is 0\n",
      "Index of Maximum element is 2\n",
      "Average of Elements is 512408.25\n",
      "Reverse of all numbers [54865, 521024, 221597, 145777]\n"
     ]
    }
   ],
   "source": [
    "# Write Your Answer for Q#3 Over Here\n",
    "try:\n",
    "    with open(\"Numbers.txt\",'r') as read_file:\n",
    "        try:\n",
    "            item = [int(line.strip()) for line in read_file.readlines()]\n",
    "#asking the user for therequired number of lines            \n",
    "            try:\n",
    "                lines = int(input(\"Enter the required number of lines: \"))\n",
    "                if lines < 0:\n",
    "                    raise ValueError\n",
    "                item = item[:lines]\n",
    "                \n",
    "#we print all number reqired          \n",
    "                print(\"Filtered File Numbers %s\" %item)\n",
    "                print(\"Index of Minimum element is %s\" %item.index(min(item)))\n",
    "                print(\"Index of Maximum element is %s\" %item.index(max(item)))\n",
    "                print(\"Average of Elements is %s\" %(sum(item)/len(item)))\n",
    "                print(\"Reverse of all numbers %s\" %([int(str(x)[::-1]) for x in item]))\n",
    "                \n",
    "#Use except function to handle all the exceptions that may arise                \n",
    "            except ValueError:\n",
    "                print(\"Enter an integer value for lines\")\n",
    "        except ValueError:\n",
    "            print(\"Cannot be converted to number\")\n",
    "except IOError:\n",
    "    print('The File does not exist')"
   ]
  },
  {
   "cell_type": "markdown",
   "metadata": {},
   "source": [
    "<b>Q#4</b> Write a program that reads the contents of filename `Cities.txt` into a list.<br>\n",
    "(a) The program should ask the user to enter the name of a city, then displays the number of times that city has been repeated in the list. <br>\n",
    "(b) The program should ask the user to enter the name of city, then replace that city with the city in part(a) (in all the list) and display the modified list of cities at the end.<br>\n",
    "(c) Consider all the exceptions may be rised in the program."
   ]
  },
  {
   "cell_type": "code",
   "execution_count": 2,
   "metadata": {},
   "outputs": [
    {
     "name": "stdout",
     "output_type": "stream",
     "text": [
      "enter City name: Boston\n",
      "Boston city has occured 6 times in the file\n",
      "Which city name should be changed?: BOSTON\n",
      "Check again with the name of city you entered\n"
     ]
    }
   ],
   "source": [
    "# Write Your Answer for Q#4 Over Here\n",
    "try:\n",
    "    with open(\"Cities.txt\",'r') as read_file:\n",
    "        cities = [x.strip() for x in read_file.readlines()]\n",
    "        counter =0\n",
    "#Ask user about the city name as input        \n",
    "        city_1 = input(\"enter City name: \")\n",
    "#Using For loop to iterate the process until the condition satisfies and then to come out of the loop    \n",
    "        for city in cities:\n",
    "            if city == city_1:\n",
    "                counter += 1\n",
    "#Prints the number of times the city selected by the user has occured                \n",
    "        print(\"%s city has occured %s times in the file\" %(city_1,counter))\n",
    "        try:\n",
    "            city_2 = input(\"Which city name should be changed?: \")\n",
    "            if city_2 not in cities:\n",
    "                raise IOError\n",
    "            else:\n",
    "                modifiedList = [city_1 if city==city_2 else city for city in cities]\n",
    "            print(\"This is the modified city list: %s\" %modifiedList)\n",
    "            \n",
    "#using except function to deliver the output even if there are some errors            \n",
    "        except IOError:\n",
    "            print(\"Check again with the name of city you entered\")\n",
    "except IOError:\n",
    "    print(\"The file does not exist, Please read the proper file to get the output\")"
   ]
  },
  {
   "cell_type": "markdown",
   "metadata": {},
   "source": [
    "<b> Q#5</b> Write a program that collects information about the user's top three favorite movies. The program should collect the titles of the movies as well as the year they were released. The program should create a tuple for each movie in the following format: ('movie name', 'production year'), and then add all of the tuples to a list. Finally, the program should display the title of the movie with the most recent production year. (Tip: If two movies were made in the same year, the program should only display one of them.)"
   ]
  },
  {
   "cell_type": "code",
   "execution_count": 7,
   "metadata": {},
   "outputs": [
    {
     "name": "stdout",
     "output_type": "stream",
     "text": [
      "Enter the name of the Movie: jumangi\n",
      "When is the movie released?: 2011\n",
      "Enter the name of the Movie: spiderman\n",
      "When is the movie released?: 2020\n",
      "Enter the name of the Movie: batman 2022\n",
      "When is the movie released?: 2022\n",
      "The name of the most recently released movie is: batman 2022\n"
     ]
    }
   ],
   "source": [
    "# Write Your Answer for Q#5 Over Here\n",
    "#define empty list named movies\n",
    "movies_list = []\n",
    "\n",
    "#use try function to check for the conditions inside\n",
    "try:\n",
    "    for j in range(3):\n",
    "        movie = input(\"Enter the name of the Movie: \")\n",
    "        year_released = int(input(\"When is the movie released?: \"))\n",
    "        if year_released < 0:\n",
    "            raise IOError\n",
    "        movies_list.append((movie,str(year_released)))\n",
    "# use sort and arrange the movies according to release date in reverse chronological order        \n",
    "    movies_list.sort(key = lambda x: int(x[1]))\n",
    "    print(\"The name of the most recently released movie is: %s\" %movies_list[-1][0])\n",
    "\n",
    "# using except function to ignore the errors and deliver the output    \n",
    "except IOError:\n",
    "    print(\"provide Proper input for release year\")"
   ]
  },
  {
   "cell_type": "markdown",
   "metadata": {},
   "source": [
    "Q#6: Write a program that reads the contents of filename `Content.txt`. The text that is in the file is stored as one sentence per line. Write a program that reads the file’s contents and determines the following:\n",
    "<ul>\n",
    "    <li> Calculate the average number of words per sentence.</li>\n",
    "    <li>The number of uppercase letters in the file.</li>\n",
    "    <li>The number of lowercase letters in the file.</li>\n",
    "    <li>The number of digits in the file.</li>\n",
    "    <li>The number of whitespace characters in the file.</li>\n",
    "</ul>"
   ]
  },
  {
   "cell_type": "code",
   "execution_count": 8,
   "metadata": {},
   "outputs": [
    {
     "name": "stdout",
     "output_type": "stream",
     "text": [
      "Average Number of Words per sentence is 26.0 \n",
      "(29) Upper characters,(0) Lower characters,(0) digits and (250) whitespace characters in the file\n"
     ]
    }
   ],
   "source": [
    "# Write Your Answer for Q#6 Over Here\n",
    "try:\n",
    "    with open(\"Content.txt\",'r') as read_file:\n",
    "        obj = [x.strip() for x in read_file.readlines()]\n",
    "        count_num = [len(line.split()) for line in obj ]\n",
    "        \n",
    "# using print function to display the average number of words per sentence        \n",
    "        print(\"Average Number of Words per sentence is %s \" %(sum(count_num)/len(count_num)))\n",
    "        upper_char = 0\n",
    "        lower_char = 0\n",
    "        digit_char = 0\n",
    "        whitespace_char = 0\n",
    "#use for loop to iterate the process and test all the conditions until false and then exit the loop        \n",
    "        for line in obj:\n",
    "            for char in line:\n",
    "                if char.islower():\n",
    "                    lower += 1\n",
    "#using nested loop to ease the code into simple steps                    \n",
    "                elif char.isupper():\n",
    "                    upper_char += 1\n",
    "                elif char.isdigit():\n",
    "                    digit += 1\n",
    "                elif char== ' ':\n",
    "                    whitespace_char += 1\n",
    "                    \n",
    "#using print function to display the final desired output                    \n",
    "        print(\"(%s) Upper characters,(%s) Lower characters,(%s) digits and (%s) whitespace characters in the file\" %(upper_char,lower_char,digit_char,whitespace_char))\n",
    "\n",
    "#using except function to prevent any errors in the display of the console\n",
    "except IOError:\n",
    "    print(\"The file does not exist\")"
   ]
  },
  {
   "cell_type": "markdown",
   "metadata": {},
   "source": [
    "<b>Q#7</b> The correct answers of a quiz are as fallows:\n",
    "<ul>\n",
    "<ol>1.A</ol>\n",
    "<ol>2.B</ol>\n",
    "<ol>3.C</ol>\n",
    "<ol>4.B</ol>\n",
    "<ol>5.D</ol>\n",
    "<ol>6.A</ol>\n",
    "<ol>7.A</ol>\n",
    "<ol>8.C</ol>\n",
    "<ol>9.B</ol>\n",
    "<ol>10.B</ol>\n",
    "<ol>11.C</ol>\n",
    "<ol>12.D</ol>\n",
    "</ul>\n",
    "Your program should store all these correct answers in a list. The program asks the user to enter an answer for each question and store it in another list. The program should display a message indicating whether the user passed or failed the quiz. A user must correctly answer 6 of the 12 questions to pass the quiz.) It should then display the total number of correctly answered questions, the total number of incorrectly answered questions, and a list showing the question numbers of the incorrectly answered questions. Consider all the exceptions may be raised in the program.Your code should have the name of at least two exception."
   ]
  },
  {
   "cell_type": "code",
   "execution_count": 2,
   "metadata": {},
   "outputs": [
    {
     "name": "stdout",
     "output_type": "stream",
     "text": [
      "1.A\n",
      "2.B\n",
      "3.C\n",
      "4.B\n",
      "5.D\n",
      "6.A\n",
      "7.A\n",
      "8.C\n",
      "9.D\n",
      "10.B\n",
      "11.B\n",
      "12.B\n",
      "Yay!You passed the exam\n",
      "The number of Correct answers are: 7\n",
      "The number of Incorrect answers are: 3\n",
      "The number of Incorrect Questions are: [9, 11, 12]\n"
     ]
    }
   ],
   "source": [
    "# Write Your Answer for Q#7 Over Here\n",
    "#DECLARING list OF THE CORRECT ANSWERS\n",
    "correct_ans = ['A','B','C','B','D','A','A','C','B','B','C','D']\n",
    "#USER ANS\n",
    "user_ans = []\n",
    "#List of incorrect answer\n",
    "incorrect_ans= []\n",
    "\n",
    "#using try function to try and define the logic\n",
    "try:\n",
    "    for i in range(12):\n",
    "        print(\"%s.\" %(i+1),end=\"\")\n",
    "        ch = input()\n",
    "        if ch != 'A' and ch != 'B' and ch != 'C' and ch != 'D':\n",
    "            raise IOError\n",
    "        user_ans.append(ch)\n",
    "        if correct_ans[i] != ch:\n",
    "            incorrect_ans.append(i+1)\n",
    "     #printing fail message if answers below 6       \n",
    "    if len(incorrect_ans) > 3:\n",
    "        print(\"You failed the exam. Better prepare next time\")\n",
    "    #else printing u have passed\n",
    "    else:\n",
    "        print(\"Yay!You passed the exam\")\n",
    "    print(\"The number of Correct answers are: %s\" %(12-len(incorrect_ans)))\n",
    "    print(\"The number of Incorrect answers are: %s\" %(len(incorrect_ans)))\n",
    "    print(\"The number of Incorrect Questions are: %s\" %incorrect_ans)\n",
    "    \n",
    "except IOError:\n",
    "    print(\"The Valid options are'A' or 'B' or 'C' or 'D'\")"
   ]
  },
  {
   "cell_type": "markdown",
   "metadata": {},
   "source": [
    "Q#8: Write a program with a function that accepts a string as an argument and returns a copy of the string with the first character of each sentence with lower case letter. For examle, if the argument is “Hello. How are you! Are you living in Texas, Arlington? Great” the function should return the string “hello. how are you! are you living in Texas, arlington? great” The program should let the user enter a string and then pass it to the function. The modified string should be displayed."
   ]
  },
  {
   "cell_type": "code",
   "execution_count": 6,
   "metadata": {},
   "outputs": [
    {
     "name": "stdout",
     "output_type": "stream",
     "text": [
      "enter the argument:  Hi\n",
      "hi\n"
     ]
    }
   ],
   "source": [
    "# Write Your Answer for Q#8 Over Here\n",
    "#defining lower char\n",
    "def char_lower():\n",
    "\n",
    "    x=input(\"enter the argument:  \")\n",
    "    out=x.split(' ')\n",
    "    for i in range(len(out)):\n",
    "        if out[i][0].isalpha():\n",
    "            out[i]=out[i][0].lower()+out[i][1:]\n",
    "    return ' '.join(out)\n",
    "print(char_lower())"
   ]
  },
  {
   "cell_type": "markdown",
   "metadata": {},
   "source": [
    "# <b>Important Points:</b>\n",
    "<ul>\n",
    "    <li>Make sure you put your name at the top of the assignment file as a comment.</li>\n",
    "    <li>Write your code for each question in the specified cell</li>\n",
    "    <li><b>You should only use the programming concepts that have been covered in this course.</b></li>\n",
    "    <li>Try to add comments to your code.</li>\n",
    "    <li>Make sure to save the ipython file (this file) <b>with the outputs</b> and submit the file on Canvas.</li>\n",
    "    <li>For questions without ouput you will not get any point.</li>\n",
    "    <li>If your code has an error (even a simple syntax error), you will not get any point for that questions.</li>\n",
    "    <li>The <b>due date</b> for this assignment is:<span style='color:red'> --<b> March 9 at 11:59 PM</b>.</span></li>\n",
    "    <li><u><b>No late submission will be accepted.</b></u></li>\n",
    "</ul>"
   ]
  }
 ],
 "metadata": {
  "kernelspec": {
   "display_name": "Python 3 (ipykernel)",
   "language": "python",
   "name": "python3"
  },
  "language_info": {
   "codemirror_mode": {
    "name": "ipython",
    "version": 3
   },
   "file_extension": ".py",
   "mimetype": "text/x-python",
   "name": "python",
   "nbconvert_exporter": "python",
   "pygments_lexer": "ipython3",
   "version": "3.9.7"
  }
 },
 "nbformat": 4,
 "nbformat_minor": 4
}
