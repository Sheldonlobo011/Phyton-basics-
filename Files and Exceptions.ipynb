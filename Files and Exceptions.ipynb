{
 "cells": [
  {
   "cell_type": "markdown",
   "metadata": {},
   "source": [
    "<h1 align='center' style=\"color: blue;\">Files and Exceptions</h1>"
   ]
  },
  {
   "cell_type": "markdown",
   "metadata": {},
   "source": [
    "## 1. Introduction to File Input and Output"
   ]
  },
  {
   "cell_type": "code",
   "execution_count": 4,
   "metadata": {},
   "outputs": [],
   "source": [
    "def main():\n",
    "    # Open a file named philosophers.txt.\n",
    "    outfile = open('philosophers.txt', 'w')\n",
    "    \n",
    "    # Write the names of three philosphers to the file\n",
    "    outfile.write('John Locke\\n')\n",
    "    outfile.write('David Hume\\n')\n",
    "    outfile.write('Edmund Burke\\n')\n",
    "    \n",
    "    # Close the file.\n",
    "    outfile.close()\n",
    "    \n",
    "main()"
   ]
  },
  {
   "cell_type": "markdown",
   "metadata": {},
   "source": [
    "### 1.6.Reading Data from a File"
   ]
  },
  {
   "cell_type": "markdown",
   "metadata": {},
   "source": [
    "<i><b>read method</i></b>: file object method that reads entire file contents into memory\n",
    "    <ul><li>Only works if file has been opened for reading</li>\n",
    "    <li>Contents returned as a string</li>\n",
    "</ul>"
   ]
  },
  {
   "cell_type": "markdown",
   "metadata": {},
   "source": [
    "<b>Example:</b>"
   ]
  },
  {
   "cell_type": "code",
   "execution_count": 5,
   "metadata": {},
   "outputs": [
    {
     "name": "stdout",
     "output_type": "stream",
     "text": [
      "John Locke\n",
      "David Hume\n",
      "Edmund Burke\n",
      "\n"
     ]
    }
   ],
   "source": [
    "def main():\n",
    "    # Open a file named philosophers.txt.\n",
    "    infile = open('philosophers.txt', 'r')\n",
    "    \n",
    "    # Read the file's contents.\n",
    "    file_contents = infile.read()\n",
    "    \n",
    "    # Close the file.\n",
    "    infile.close()\n",
    "    \n",
    "    # Print the data that was read into memory\n",
    "    print(file_contents)\n",
    "\n",
    "main()"
   ]
  },
  {
   "cell_type": "code",
   "execution_count": 6,
   "metadata": {},
   "outputs": [
    {
     "name": "stdout",
     "output_type": "stream",
     "text": [
      "John Locke\n",
      "\n",
      "David Hume\n",
      "\n",
      "Edmund Burke\n",
      "\n"
     ]
    }
   ],
   "source": [
    "#This program reads the contents of the philosophers.txt file one line at a time. \n",
    "def main():\n",
    "    infile = open('philosophers.txt', 'r')\n",
    "\n",
    "    # Read three lines from the file. \n",
    "    line1 = infile.readline()\n",
    "    line2 = infile.readline()\n",
    "    line3 = infile.readline()\n",
    "    \n",
    "    # Close the file.\n",
    "    infile.close()\n",
    "    \n",
    "    print(line1)\n",
    "    print(line2)\n",
    "    print(line3)\n",
    "    \n",
    "main()"
   ]
  },
  {
   "cell_type": "markdown",
   "metadata": {},
   "source": [
    "### 1.7. Concatenating a Newline to a String"
   ]
  },
  {
   "cell_type": "markdown",
   "metadata": {},
   "source": [
    "In most cases, data items written to a file are values referenced by <b>variables</b>.\n",
    "<ul>\n",
    "    <li>Usually necessary to concatenate a '\\n' to data before writing it.</li>\n",
    "    <ul><li>Carried out using the + operator in the argument of the write method.</li>\n",
    "</ul></ul>"
   ]
  },
  {
   "cell_type": "code",
   "execution_count": 7,
   "metadata": {},
   "outputs": [
    {
     "name": "stdout",
     "output_type": "stream",
     "text": [
      "Enter the names of three friends.\n",
      "Friend #1: Sheldon\n",
      "Friend #2: Ram\n",
      "Friend #3: SAM\n",
      "The names were written to friends.txt.\n"
     ]
    }
   ],
   "source": [
    "def main():\n",
    "    \n",
    "    print('Enter the names of three friends.')\n",
    "    name1 = input('Friend #1: ')\n",
    "    name2 = input('Friend #2: ')\n",
    "    name3 = input('Friend #3: ')\n",
    "\n",
    " # Open a file named friends.txt.\n",
    "    myfile = open('friends.txt', 'w')\n",
    "\n",
    " # Write the names to the file.\n",
    "    myfile.write(name1 + '\\n')\n",
    "    myfile.write(name2 + '\\n')\n",
    "    myfile.write(name3 + '\\n')\n",
    "    \n",
    " # Close the file.\n",
    "    myfile.close()\n",
    "    print('The names were written to friends.txt.')\n",
    "\n",
    "main()"
   ]
  },
  {
   "cell_type": "code",
   "execution_count": 8,
   "metadata": {},
   "outputs": [
    {
     "name": "stdout",
     "output_type": "stream",
     "text": [
      "John Locke\n",
      "David Hume\n",
      "Edmund Burke\n"
     ]
    }
   ],
   "source": [
    "def main():\n",
    "#Open a file named philosophers.txt. \n",
    "    infile = open('philosophers.txt', 'r')\n",
    "\n",
    "# Read three lines from the file.\n",
    "    line1 = infile.readline()\n",
    "    line2 = infile.readline()\n",
    "    line3 = infile.readline()\n",
    "\n",
    "# Strip the \\n from each string.\n",
    "    line1 = line1.rstrip('\\n') \n",
    "    line2 = line2.rstrip('\\n')\n",
    "    line3 = line3.rstrip('\\n')\n",
    "# Close the file. \n",
    "    infile.close()\n",
    "# Print the data that was read into # memory.\n",
    "    print(line1)\n",
    "    print(line2) \n",
    "    print(line3)\n",
    "main()"
   ]
  },
  {
   "cell_type": "code",
   "execution_count": 9,
   "metadata": {},
   "outputs": [],
   "source": [
    "myfile = open('philosophers.txt', 'a') \n",
    "\n",
    "myfile.write('Matt\\n') \n",
    "myfile.write('Chris\\n') \n",
    "myfile.write('Suze\\n') \n",
    "\n",
    "myfile.close()"
   ]
  },
  {
   "cell_type": "markdown",
   "metadata": {},
   "source": [
    "### 1.9. Writing and Reading Numeric Data"
   ]
  },
  {
   "cell_type": "markdown",
   "metadata": {},
   "source": [
    "<ul><li>Numbers must be converted to strings before they are written to a file.</li>\n",
    "    <li><i><b>str</b></i> function: converts value to string.</li>\n",
    "    <li>Number are read from a text file as strings.</li>\n",
    "    <ul><li>Must be converted to numeric type in order to perform mathematical operations.</li>\n",
    "        <li>Use <i>int</i> and <i>float</i> functions to convert string to numeric value.</li>\n",
    "</ul></ul>\n"
   ]
  },
  {
   "cell_type": "markdown",
   "metadata": {},
   "source": [
    "<b>Example:</b>"
   ]
  },
  {
   "cell_type": "code",
   "execution_count": 10,
   "metadata": {},
   "outputs": [
    {
     "name": "stdout",
     "output_type": "stream",
     "text": [
      "Enter a number: 1\n",
      "Enter another number: 2\n",
      "Enter another number: 3\n",
      "Data written to numbers.txt\n"
     ]
    }
   ],
   "source": [
    "def main():\n",
    "    outfile = open('numbers.txt', 'w')\n",
    "    # Get three numbers from the user.\n",
    "    num1 = int(input('Enter a number: '))\n",
    "    num2 = int(input('Enter another number: '))\n",
    "    num3 = int(input('Enter another number: '))\n",
    "\n",
    "    outfile.write(str(num1) + '\\n')\n",
    "    outfile.write(str(num2) + '\\n')\n",
    "    outfile.write(str(num3) + '\\n')\n",
    "\n",
    "    outfile.close()\n",
    "    print('Data written to numbers.txt')\n",
    "\n",
    "main()"
   ]
  },
  {
   "cell_type": "code",
   "execution_count": 11,
   "metadata": {},
   "outputs": [
    {
     "name": "stdout",
     "output_type": "stream",
     "text": [
      "The numbers are: 1 2 3\n",
      "Their total is: 6\n"
     ]
    }
   ],
   "source": [
    "def main():\n",
    "\n",
    "    infile = open('numbers.txt', 'r')\n",
    "\n",
    "    num1 = int(infile.readline())\n",
    "    num2 = int(infile.readline())\n",
    "    num3 = int(infile.readline())\n",
    "\n",
    "    infile.close()\n",
    "    \n",
    "    # Add the three numbers. \n",
    "    total = num1 + num2 + num3\n",
    "\n",
    "    print('The numbers are:', num1, num2, num3) \n",
    "    print('Their total is:', total)\n",
    "\n",
    "main()"
   ]
  },
  {
   "cell_type": "markdown",
   "metadata": {},
   "source": [
    "## 2. Using Loops to Process Files"
   ]
  },
  {
   "cell_type": "markdown",
   "metadata": {},
   "source": [
    "<ul><li>Files typically used to hold large amounts of data.</li>\n",
    "    <ul><li>Loop typically involved in reading from and writing to a file.</li></ul>\n",
    "</ul>"
   ]
  },
  {
   "cell_type": "code",
   "execution_count": 12,
   "metadata": {},
   "outputs": [
    {
     "name": "stdout",
     "output_type": "stream",
     "text": [
      "For how many days do you have sales? 4\n",
      "Enter the sales for day #1: 2\n",
      "Enter the sales for day #2: 1\n",
      "Enter the sales for day #3: 4\n",
      "Enter the sales for day #4: 5\n",
      "Data written to sales.txt.\n"
     ]
    }
   ],
   "source": [
    "def main():\n",
    "\n",
    "    num_days = int(input('For how many days do you have sales? '))\n",
    "\n",
    "    sales_file = open('sales.txt', 'w')\n",
    "\n",
    "    for count in range(1, num_days + 1):\n",
    "        sales = float(input('Enter the sales for day #' + str(count) + ': '))\n",
    "\n",
    "        sales_file.write(str(sales) + '\\n')\n",
    "\n",
    "    sales_file.close()\n",
    "    \n",
    "    print('Data written to sales.txt.')\n",
    "\n",
    "main()"
   ]
  },
  {
   "cell_type": "markdown",
   "metadata": {},
   "source": [
    "<ul><li>Often the number of items stored in file is unknown.</li>\n",
    "    <ul><li>The <b><i>readline</i></b> method uses an empty string as a sentinel when end of file is reached.</li>\n",
    "<ul><li>Can write a while loop with the condition \n",
    "    <i>while line != ''</i></li></ul>\n",
    "</ul></ul>"
   ]
  },
  {
   "cell_type": "markdown",
   "metadata": {},
   "source": [
    "Here is the general algorithm, in pseudocode:\n",
    "<br><br>\n",
    "<i>Open the file<br>\n",
    "Use readline to read the first line from the file<br>\n",
    "While the value returned from readline is not an empty string:<br>\n",
    " &nbsp;&nbsp;&nbsp;&nbsp;&nbsp;Process the item that was just read from the file<br>\n",
    " &nbsp;&nbsp;&nbsp;&nbsp;&nbsp;Use readline to read the next line from the file.<br>\n",
    "Close the file</i>"
   ]
  },
  {
   "cell_type": "code",
   "execution_count": 13,
   "metadata": {},
   "outputs": [
    {
     "name": "stdout",
     "output_type": "stream",
     "text": [
      "2.00\n",
      "1.00\n",
      "4.00\n",
      "5.00\n"
     ]
    }
   ],
   "source": [
    "def main():\n",
    "\n",
    "    sales_file = open('sales.txt', 'r')\n",
    "\n",
    "    line = sales_file.readline()\n",
    "\n",
    "    while line != '':\n",
    "        amount = float(line)\n",
    "        print(f'{amount:.2f}')\n",
    "        line = sales_file.readline()\n",
    "\n",
    "    sales_file.close()\n",
    "\n",
    "main()"
   ]
  },
  {
   "cell_type": "markdown",
   "metadata": {},
   "source": [
    "### 2.1. Using Python’s for Loop to Read Lines"
   ]
  },
  {
   "cell_type": "markdown",
   "metadata": {},
   "source": [
    "<ul><li>Python allows the programmer to write a <i>for</i> loop that automatically reads lines in a file and stops when end of file is reached.</li>\n",
    "   <ul> <li><i>for &nbsp;variable in file_object(): \n",
    "<br>&nbsp;&nbsp;&nbsp;&nbsp;&nbsp;&nbsp;&nbsp;&nbsp;statement \n",
    "<br>&nbsp;&nbsp;&nbsp;&nbsp;&nbsp;&nbsp;&nbsp;&nbsp;statement\n",
    "<br>&nbsp;&nbsp;&nbsp;&nbsp;&nbsp;&nbsp;&nbsp;&nbsp;etc.</i>\n",
    "    <li>The loop iterates once over each line in the file.</li>\n",
    "</ul></ul>\n"
   ]
  },
  {
   "cell_type": "code",
   "execution_count": 15,
   "metadata": {},
   "outputs": [
    {
     "name": "stdout",
     "output_type": "stream",
     "text": [
      "2.00\n",
      "1.00\n",
      "4.00\n",
      "5.00\n"
     ]
    }
   ],
   "source": [
    "def main():\n",
    "    sales_file = open('sales.txt', 'r')\n",
    "    for line in sales_file:\n",
    "        amount = float(line)\n",
    "        print(f'{amount:.2f}')\n",
    " \n",
    "    sales_file.close()\n",
    "\n",
    "main()"
   ]
  },
  {
   "cell_type": "markdown",
   "metadata": {},
   "source": [
    "### 2.2. Processing Records"
   ]
  },
  {
   "cell_type": "markdown",
   "metadata": {},
   "source": [
    "<ul>\n",
    "    <li><b>Record:</b> set of data that describes one item.</li>\n",
    "    <li><b>Field:</b> single piece of data within a record.</li>\n",
    "    <li>Write record to sequential access file by writing the fields one after the other.</li>\n",
    "    <li>Read record from sequential access file by reading each field until record complete.</li>"
   ]
  },
  {
   "cell_type": "code",
   "execution_count": 17,
   "metadata": {},
   "outputs": [
    {
     "name": "stdout",
     "output_type": "stream",
     "text": [
      "How many employee records do you want to create? 2\n",
      "Enter data for employee #1\n",
      "Name: Sheldon \n",
      "ID number: 1\n",
      "Department: IT\n",
      "\n",
      "Enter data for employee #2\n",
      "Name: Sam\n",
      "ID number: 2\n",
      "Department: ADMIN\n",
      "\n",
      "Employee records written to employees.txt.\n"
     ]
    }
   ],
   "source": [
    "def main():\n",
    "\n",
    "    num_emps = int(input('How many employee records ' + 'do you want to create? '))\n",
    "\n",
    "    emp_file = open('employees.txt', 'w')\n",
    "\n",
    "    for count in range(1, num_emps + 1):\n",
    "    \n",
    "        print('Enter data for employee #', count, sep='') \n",
    "        name = input('Name: ')\n",
    "        id_num = input('ID number: ')\n",
    "        dept = input('Department: ')\n",
    " \n",
    "        emp_file.write(name + '\\n') \n",
    "        emp_file.write(id_num + '\\n') \n",
    "        emp_file.write(dept + '\\n')\n",
    "\n",
    "        print()\n",
    "\n",
    "    emp_file.close()\n",
    "    print('Employee records written to employees.txt.')\n",
    "\n",
    "main()"
   ]
  },
  {
   "cell_type": "code",
   "execution_count": 18,
   "metadata": {},
   "outputs": [
    {
     "name": "stdout",
     "output_type": "stream",
     "text": [
      "Name: Sheldon \n",
      "ID: 1\n",
      "Dept: IT\n",
      "\n",
      "Name: Sam\n",
      "ID: 2\n",
      "Dept: ADMIN\n",
      "\n"
     ]
    }
   ],
   "source": [
    "def main():\n",
    "\n",
    "    emp_file = open('employees.txt', 'r')\n",
    "    name = emp_file.readline()\n",
    "   \n",
    "    while name != '':\n",
    "        id_num = emp_file.readline()\n",
    "        dept = emp_file.readline()\n",
    "        \n",
    "        name = name.rstrip('\\n')\n",
    "        id_num = id_num.rstrip('\\n')\n",
    "        dept = dept.rstrip('\\n')\n",
    "        \n",
    "        print('Name:', name) \n",
    "        print('ID:', id_num) \n",
    "        print('Dept:', dept) \n",
    "        print()\n",
    "        \n",
    "        name = emp_file.readline()\n",
    "    \n",
    "    emp_file.close()\n",
    "\n",
    "main()"
   ]
  },
  {
   "cell_type": "markdown",
   "metadata": {},
   "source": [
    "<ul>\n",
    "    <li>When working with records, it is also important to be able to:</li>\n",
    "    <ul><li>Add records</li>\n",
    "        <li>Display records</li>\n",
    "        <li>Search for a specific record</li>\n",
    "        <li>Modify records</li>\n",
    "        <li>Delete records</li>\n",
    "    </ul></ul>"
   ]
  },
  {
   "cell_type": "markdown",
   "metadata": {},
   "source": [
    "### 2.3. Exceptions"
   ]
  },
  {
   "cell_type": "markdown",
   "metadata": {},
   "source": [
    "<ul>\n",
    "    <li><b>Exception:</b> error that occurs while a program is running.</li>\n",
    "    <ul><li>Usually causes program to abruptly halt.</li></ul>\n",
    "    <li><b>Traceback:</b> error message that gives information regarding line numbers that caused the exception.</li>\n",
    "<ul><li>Indicates the type of exception and brief description of the error that caused exception to be raised.</li></ul>"
   ]
  },
  {
   "cell_type": "code",
   "execution_count": 20,
   "metadata": {},
   "outputs": [
    {
     "name": "stdout",
     "output_type": "stream",
     "text": [
      "Enter a number: 5000\n",
      "Enter another number: 4484\n",
      "5000 divided by 4484 is 1.1150758251561106\n"
     ]
    }
   ],
   "source": [
    "def main():\n",
    "# Get two numbers.\n",
    "    num1 = int(input('Enter a number: '))\n",
    "    num2 = int(input('Enter another number: '))\n",
    "# Divide num1 by num2 and display the result. \n",
    "    result = num1 / num2\n",
    "    print(num1, 'divided by', num2, 'is', result)\n",
    "\n",
    "main()"
   ]
  },
  {
   "cell_type": "code",
   "execution_count": 21,
   "metadata": {},
   "outputs": [
    {
     "name": "stdout",
     "output_type": "stream",
     "text": [
      "Enter a number: 40000\n",
      "Enter another number: 2292\n",
      "40000 divided by 2292 is 17.452006980802793\n"
     ]
    }
   ],
   "source": [
    "def main():\n",
    "# Get two numbers.\n",
    "    num1 = int(input('Enter a number: '))\n",
    "    num2 = int(input('Enter another number: '))\n",
    "\n",
    "# If num2 is not 0, divide num1 by num2 # and display the result.\n",
    "    if num2 != 0:\n",
    "        result = num1 / num2\n",
    "        print(num1, 'divided by', num2, 'is', result) \n",
    "    else:\n",
    "        print('Cannot divide by zero.')\n",
    "main()"
   ]
  },
  {
   "cell_type": "code",
   "execution_count": 22,
   "metadata": {},
   "outputs": [
    {
     "name": "stdout",
     "output_type": "stream",
     "text": [
      "How many hours did you work? 40\n",
      "Enter your hourly pay rate: 399\n",
      "Gross pay: $15,960.00\n"
     ]
    }
   ],
   "source": [
    "def main():\n",
    "\n",
    "    hours = int(input('How many hours did you work? '))\n",
    "    pay_rate = float(input('Enter your hourly pay rate: '))\n",
    "\n",
    "    gross_pay = hours * pay_rate\n",
    "\n",
    "    print('Gross pay: $', format(gross_pay, ',.2f'), sep='')\n",
    "\n",
    "main()"
   ]
  },
  {
   "cell_type": "markdown",
   "metadata": {},
   "source": [
    "<b>Exception handler:</b> code that responds when exceptions are raised and prevents program from crashing.\n",
    "<ul><li>In Python, written as <i>try/except</i> statement.</li>\n",
    "    <ul><li>General format:</li>\n",
    "        <i>try: \n",
    "<br>&nbsp;&nbsp;&nbsp;&nbsp;&nbsp;&nbsp;&nbsp;&nbsp;statement \n",
    "<br>&nbsp;&nbsp;&nbsp;&nbsp;&nbsp;&nbsp;&nbsp;&nbsp;statement\n",
    "<br>&nbsp;&nbsp;&nbsp;&nbsp;&nbsp;&nbsp;&nbsp;&nbsp;etc.</i>\n",
    "        <br><i>except &nbsp;ExceptionName: \n",
    "<br>&nbsp;&nbsp;&nbsp;&nbsp;&nbsp;&nbsp;&nbsp;&nbsp;statement \n",
    "<br>&nbsp;&nbsp;&nbsp;&nbsp;&nbsp;&nbsp;&nbsp;&nbsp;statement\n",
    "<br>&nbsp;&nbsp;&nbsp;&nbsp;&nbsp;&nbsp;&nbsp;&nbsp;etc.</i>\n",
    "        <li><u>Try suite:</u> statements that can potentially raise an exception.</li>\n",
    "        <li><u>Handler:</u> statements contained in except block.</li>\n",
    "    </ul></ul>\n"
   ]
  },
  {
   "cell_type": "markdown",
   "metadata": {},
   "source": [
    "When the try/except statement executes, the statements in the try suite begin to execute. The following describes what happens next:\n",
    "<ul>\n",
    "    <li>If statement in <i>try suite</i> raises exception:</li>\n",
    "    <ul><li>Exception specified in except clause:</li>\n",
    "        <ul><li>Handler immediately following except clause executes.</li>\n",
    "            <li>Continue program after try/except statement.</li></ul>\n",
    "        <li>Other exceptions:</li>\n",
    "        <ul><li>Program halts with traceback error message.</li>\n",
    "        </ul></ul>\n",
    "    <li>If no exception is raised, handlers are skipped.</li>\n",
    "    </ul>\n"
   ]
  },
  {
   "cell_type": "code",
   "execution_count": 23,
   "metadata": {},
   "outputs": [
    {
     "name": "stdout",
     "output_type": "stream",
     "text": [
      "How many hours did you work? 40\n",
      "Enter your hourly pay rate: 700\n",
      "Gross pay: $28,000.00\n"
     ]
    }
   ],
   "source": [
    "def main(): \n",
    "    try:\n",
    "    \n",
    "        hours = int(input('How many hours did you work? '))\n",
    "        pay_rate = float(input('Enter your hourly pay rate: '))\n",
    "        gross_pay = hours * pay_rate\n",
    "        print('Gross pay: $', format(gross_pay, ',.2f'), sep='') \n",
    "        \n",
    "    except ValueError:\n",
    "        print('ERROR: Hours worked and hourly pay rate must be valid numbers.') \n",
    "main()"
   ]
  },
  {
   "cell_type": "code",
   "execution_count": 24,
   "metadata": {},
   "outputs": [
    {
     "name": "stdout",
     "output_type": "stream",
     "text": [
      "Enter a filename: employees.txt\n",
      "Sheldon \n",
      "1\n",
      "IT\n",
      "Sam\n",
      "2\n",
      "ADMIN\n",
      "\n"
     ]
    }
   ],
   "source": [
    "def main():\n",
    "\n",
    "    filename = input('Enter a filename: ')\n",
    "\n",
    "    infile = open(filename, 'r')\n",
    "    contents = infile.read()\n",
    "    print(contents)\n",
    "    infile.close()\n",
    "\n",
    "main()"
   ]
  },
  {
   "cell_type": "markdown",
   "metadata": {},
   "source": [
    "<b>Example</b>"
   ]
  },
  {
   "cell_type": "code",
   "execution_count": 25,
   "metadata": {},
   "outputs": [
    {
     "name": "stdout",
     "output_type": "stream",
     "text": [
      "Enter a filename: sales.txt\n",
      "2.0\n",
      "1.0\n",
      "4.0\n",
      "5.0\n",
      "\n"
     ]
    }
   ],
   "source": [
    "def main():\n",
    "\n",
    "    filename = input('Enter a filename: ')\n",
    "    try:\n",
    "\n",
    "        infile = open(filename, 'r')\n",
    "        contents = infile.read()\n",
    "        print(contents)\n",
    "        infile.close()\n",
    "    \n",
    "    except FileNotFoundError:\n",
    "        print('An error occurred trying to read the file', filename) \n",
    "        \n",
    "main()"
   ]
  },
  {
   "cell_type": "markdown",
   "metadata": {},
   "source": [
    "### 2.4. Handling Multiple Exceptions"
   ]
  },
  {
   "cell_type": "markdown",
   "metadata": {},
   "source": [
    "<ul>\n",
    "    <li>Often code in try suite can throw more than one type of exception.</li>\n",
    "    <ul><li>Need to write except clause for each type of exception that needs to be handled.</li></ul>\n",
    "<li>An except clause that does not list a specific exception will handle any exception that is raised in the try suite.</li>\n",
    "    <ul><li>Should always be last in a series of except clauses.</li></ul></ul>\n"
   ]
  },
  {
   "cell_type": "code",
   "execution_count": 26,
   "metadata": {},
   "outputs": [
    {
     "name": "stdout",
     "output_type": "stream",
     "text": [
      "An error occured trying to read the file.\n"
     ]
    }
   ],
   "source": [
    "def main():\n",
    "    total = 0.0\n",
    "    \n",
    "    try:\n",
    "        infile = open('sales_data.txt', 'r')\n",
    "\n",
    "        for line in infile:\n",
    "            amount = float(line) \n",
    "            total += amount\n",
    "        \n",
    "        infile.close()\n",
    "        print(format(total, ',.2f'))\n",
    "    \n",
    "    except FileNotFoundError:\n",
    "        print('An error occured trying to read the file.')\n",
    "\n",
    "    except ValueError:\n",
    "        print('Non-numeric data found in the file.')\n",
    "\n",
    "    except:\n",
    "        print('An error occured.')\n",
    "\n",
    "main()"
   ]
  },
  {
   "cell_type": "code",
   "execution_count": 27,
   "metadata": {},
   "outputs": [
    {
     "name": "stdout",
     "output_type": "stream",
     "text": [
      "An error occurred.\n"
     ]
    }
   ],
   "source": [
    "def main():\n",
    "    total = 0.0\n",
    "    \n",
    "    try:\n",
    "        infile = open('sales_data.txt', 'r')\n",
    "\n",
    "        for line in infile:\n",
    "            amount = float(line) \n",
    "            total += amount\n",
    "        \n",
    "        infile.close()\n",
    "        \n",
    "        print(format(total, ',.2f'))\n",
    "    \n",
    "    except:\n",
    "        print('An error occurred.')\n",
    "\n",
    "main()"
   ]
  },
  {
   "cell_type": "markdown",
   "metadata": {},
   "source": [
    "### 2.5. Displaying an Exception’s Default Error Message"
   ]
  },
  {
   "cell_type": "markdown",
   "metadata": {},
   "source": [
    "<ul><li>Exception object: object created in memory when an exception is thrown.</li>\n",
    "    <ul><li>Usually contains default error message pertaining to the exception.</li>\n",
    "        <li>Can assign the exception object to a variable in an <i>except</i> clause.</li>\n",
    "        <ul><li>Example: <i>except ValueError as err:</i></li></ul>\n",
    "        <li>Can pass exception object variable to <i>print</i> function to display the default error message.</li>\n"
   ]
  },
  {
   "cell_type": "code",
   "execution_count": 28,
   "metadata": {},
   "outputs": [
    {
     "name": "stdout",
     "output_type": "stream",
     "text": [
      "How many hours did you work? 40\n",
      "Enter your hourly pay rate: 500\n",
      "Gross pay: $20,000.00\n"
     ]
    }
   ],
   "source": [
    "def main():\n",
    "    try:\n",
    "        hours = int(input('How many hours did you work? '))\n",
    "        pay_rate = float(input('Enter your hourly pay rate: '))\n",
    "        gross_pay = hours * pay_rate\n",
    "        print('Gross pay: $', format(gross_pay, ',.2f'), sep='')\n",
    "\n",
    "    except ValueError as err:\n",
    "        print(err)\n",
    "main()"
   ]
  }
 ],
 "metadata": {
  "kernelspec": {
   "display_name": "Python 3 (ipykernel)",
   "language": "python",
   "name": "python3"
  },
  "language_info": {
   "codemirror_mode": {
    "name": "ipython",
    "version": 3
   },
   "file_extension": ".py",
   "mimetype": "text/x-python",
   "name": "python",
   "nbconvert_exporter": "python",
   "pygments_lexer": "ipython3",
   "version": "3.9.7"
  }
 },
 "nbformat": 4,
 "nbformat_minor": 4
}
