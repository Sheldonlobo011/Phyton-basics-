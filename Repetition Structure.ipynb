{
 "cells": [
  {
   "cell_type": "markdown",
   "metadata": {},
   "source": [
    "<h1 align='center' style=\"color: blue;\">Repetiton Structure</h1>"
   ]
  },
  {
   "cell_type": "markdown",
   "metadata": {},
   "source": [
    "## 1. Introduction to Repetition Structures"
   ]
  },
  {
   "cell_type": "markdown",
   "metadata": {},
   "source": [
    "Often have to write code that performs the same task multiple times"
   ]
  },
  {
   "cell_type": "code",
   "execution_count": 1,
   "metadata": {},
   "outputs": [
    {
     "name": "stdout",
     "output_type": "stream",
     "text": [
      "Enter the amount of sales: 500\n",
      "Enter the commission rate: 30\n",
      "The commission is $15000.00\n",
      "Enter the amount of sales: 400\n",
      "Enter the commission rate: 30\n",
      "The commission is $12000.00\n"
     ]
    },
    {
     "ename": "KeyboardInterrupt",
     "evalue": "Interrupted by user",
     "output_type": "error",
     "traceback": [
      "\u001b[1;31m---------------------------------------------------------------------------\u001b[0m",
      "\u001b[1;31mKeyboardInterrupt\u001b[0m                         Traceback (most recent call last)",
      "\u001b[1;32m~\\AppData\\Local\\Temp/ipykernel_33004/406523508.py\u001b[0m in \u001b[0;36m<module>\u001b[1;34m\u001b[0m\n\u001b[0;32m     20\u001b[0m \u001b[1;33m\u001b[0m\u001b[0m\n\u001b[0;32m     21\u001b[0m \u001b[1;31m# Get a salesperson's sales and commission rate\u001b[0m\u001b[1;33m\u001b[0m\u001b[1;33m\u001b[0m\u001b[0m\n\u001b[1;32m---> 22\u001b[1;33m \u001b[0msales\u001b[0m \u001b[1;33m=\u001b[0m \u001b[0mfloat\u001b[0m\u001b[1;33m(\u001b[0m\u001b[0minput\u001b[0m\u001b[1;33m(\u001b[0m\u001b[1;34m'Enter the amount of sales: '\u001b[0m\u001b[1;33m)\u001b[0m\u001b[1;33m)\u001b[0m\u001b[1;33m\u001b[0m\u001b[1;33m\u001b[0m\u001b[0m\n\u001b[0m\u001b[0;32m     23\u001b[0m \u001b[0mcomm_rate\u001b[0m \u001b[1;33m=\u001b[0m \u001b[0mfloat\u001b[0m\u001b[1;33m(\u001b[0m\u001b[0minput\u001b[0m\u001b[1;33m(\u001b[0m\u001b[1;34m'Enter the commission rate: '\u001b[0m\u001b[1;33m)\u001b[0m\u001b[1;33m)\u001b[0m\u001b[1;33m\u001b[0m\u001b[1;33m\u001b[0m\u001b[0m\n\u001b[0;32m     24\u001b[0m \u001b[1;33m\u001b[0m\u001b[0m\n",
      "\u001b[1;32m~\\anaconda3.0\\lib\\site-packages\\ipykernel\\kernelbase.py\u001b[0m in \u001b[0;36mraw_input\u001b[1;34m(self, prompt)\u001b[0m\n\u001b[0;32m   1004\u001b[0m                 \u001b[1;34m\"raw_input was called, but this frontend does not support input requests.\"\u001b[0m\u001b[1;33m\u001b[0m\u001b[1;33m\u001b[0m\u001b[0m\n\u001b[0;32m   1005\u001b[0m             )\n\u001b[1;32m-> 1006\u001b[1;33m         return self._input_request(\n\u001b[0m\u001b[0;32m   1007\u001b[0m             \u001b[0mstr\u001b[0m\u001b[1;33m(\u001b[0m\u001b[0mprompt\u001b[0m\u001b[1;33m)\u001b[0m\u001b[1;33m,\u001b[0m\u001b[1;33m\u001b[0m\u001b[1;33m\u001b[0m\u001b[0m\n\u001b[0;32m   1008\u001b[0m             \u001b[0mself\u001b[0m\u001b[1;33m.\u001b[0m\u001b[0m_parent_ident\u001b[0m\u001b[1;33m[\u001b[0m\u001b[1;34m\"shell\"\u001b[0m\u001b[1;33m]\u001b[0m\u001b[1;33m,\u001b[0m\u001b[1;33m\u001b[0m\u001b[1;33m\u001b[0m\u001b[0m\n",
      "\u001b[1;32m~\\anaconda3.0\\lib\\site-packages\\ipykernel\\kernelbase.py\u001b[0m in \u001b[0;36m_input_request\u001b[1;34m(self, prompt, ident, parent, password)\u001b[0m\n\u001b[0;32m   1049\u001b[0m             \u001b[1;32mexcept\u001b[0m \u001b[0mKeyboardInterrupt\u001b[0m\u001b[1;33m:\u001b[0m\u001b[1;33m\u001b[0m\u001b[1;33m\u001b[0m\u001b[0m\n\u001b[0;32m   1050\u001b[0m                 \u001b[1;31m# re-raise KeyboardInterrupt, to truncate traceback\u001b[0m\u001b[1;33m\u001b[0m\u001b[1;33m\u001b[0m\u001b[0m\n\u001b[1;32m-> 1051\u001b[1;33m                 \u001b[1;32mraise\u001b[0m \u001b[0mKeyboardInterrupt\u001b[0m\u001b[1;33m(\u001b[0m\u001b[1;34m\"Interrupted by user\"\u001b[0m\u001b[1;33m)\u001b[0m \u001b[1;32mfrom\u001b[0m \u001b[1;32mNone\u001b[0m\u001b[1;33m\u001b[0m\u001b[1;33m\u001b[0m\u001b[0m\n\u001b[0m\u001b[0;32m   1052\u001b[0m             \u001b[1;32mexcept\u001b[0m \u001b[0mException\u001b[0m\u001b[1;33m:\u001b[0m\u001b[1;33m\u001b[0m\u001b[1;33m\u001b[0m\u001b[0m\n\u001b[0;32m   1053\u001b[0m                 \u001b[0mself\u001b[0m\u001b[1;33m.\u001b[0m\u001b[0mlog\u001b[0m\u001b[1;33m.\u001b[0m\u001b[0mwarning\u001b[0m\u001b[1;33m(\u001b[0m\u001b[1;34m\"Invalid Message:\"\u001b[0m\u001b[1;33m,\u001b[0m \u001b[0mexc_info\u001b[0m\u001b[1;33m=\u001b[0m\u001b[1;32mTrue\u001b[0m\u001b[1;33m)\u001b[0m\u001b[1;33m\u001b[0m\u001b[1;33m\u001b[0m\u001b[0m\n",
      "\u001b[1;31mKeyboardInterrupt\u001b[0m: Interrupted by user"
     ]
    }
   ],
   "source": [
    "# Get a salesperson's sales and commission rate\n",
    "sales = float(input('Enter the amount of sales: '))\n",
    "comm_rate = float(input('Enter the commission rate: '))\n",
    "\n",
    "# Calculate the commission\n",
    "commission = sales * comm_rate\n",
    "\n",
    "# Display the commission\n",
    "print(f'The commission is ${commission:.2f}')\n",
    "\n",
    "# Get a salesperson's sales and commission rate\n",
    "sales = float(input('Enter the amount of sales: '))\n",
    "comm_rate = float(input('Enter the commission rate: '))\n",
    "\n",
    "# Calculate the commission\n",
    "commission = sales * comm_rate\n",
    "\n",
    "# Display the commission\n",
    "print(f'The commission is ${commission:.2f}')\n",
    "\n",
    "# Get a salesperson's sales and commission rate\n",
    "sales = float(input('Enter the amount of sales: '))\n",
    "comm_rate = float(input('Enter the commission rate: '))\n",
    "\n",
    "# Calculate the commission\n",
    "commission = sales * comm_rate\n",
    "\n",
    "# Display the commission\n",
    "print(f'The commission is ${commission:.2f}')"
   ]
  },
  {
   "cell_type": "markdown",
   "metadata": {},
   "source": [
    "<b>Note:</b> Disadvantages to duplicating code\n",
    "    <ul>\n",
    "        <li>Makes program large</li>\n",
    "        <li>Time consuming</li>\n",
    "        <li>May need to be corrected in many places</li>\n",
    "    </ul>"
   ]
  },
  {
   "cell_type": "markdown",
   "metadata": {},
   "source": [
    "<b>Note:</b> A <i>repetition structure</i> causes a statement or set of statements to execute repeatedly (commonly known as a <b>loop</b>.)."
   ]
  },
  {
   "cell_type": "markdown",
   "metadata": {},
   "source": [
    "<b>Note:</b> There are two types of loops: \n",
    "<ul>\n",
    "    <li><b>condition-controlled</b>:&nbsp;A condition-controlled loop uses a <b style='color:green'>True</b>/<b style='color:red'>False</b> condition to control the number of times that it repeats.</li>\n",
    "    <ul>\n",
    "        <li>We should use <b style='color:red'>while</b> statement to write this type of loops.</li>\n",
    "    </ul>\n",
    "    <li><b>count-controlled:</b>&nbsp;A count-controlled loop repeats a specific number of times.</li>\n",
    "    <ul>\n",
    "        <li>We should use <b style='color:red'>for</b> statement to write this type of loops.</li>\n",
    "    </ul>\n",
    "</ul>"
   ]
  },
  {
   "cell_type": "markdown",
   "metadata": {},
   "source": [
    "## 2. The <i>while</i> Loop: A Condition-Controlled Loop"
   ]
  },
  {
   "cell_type": "markdown",
   "metadata": {},
   "source": [
    "The <b style='color:red'>while</b> loop: <u>while a condition is true, do something.</u> \n",
    "<br>\n",
    "The loop has two parts: \n",
    "<ol> \n",
    "    <li><b>Condition</b>: tested for a <b style='color:green'>True</b> or <b style='color:red'>False</b> value.</li>\n",
    "        <li><b>Statement(s)</b>: repeated as long as the condition is True\n",
    "</ol>"
   ]
  },
  {
   "cell_type": "markdown",
   "metadata": {},
   "source": [
    "<img src='https://www.dropbox.com/s/etngt1cj8amf0fc/loop.png?raw=1'/>\n",
    "\n",
    "<i>Source: Starting Out with Python (4th Edition)- by Tony Gaddis Pearson</i>"
   ]
  },
  {
   "cell_type": "markdown",
   "metadata": {},
   "source": [
    "<b>Note: </b> The general format of the <b>while</b> loop:"
   ]
  },
  {
   "cell_type": "markdown",
   "metadata": {},
   "source": [
    "<b style='color:red'>while</b> <span style='color:blue'>condition</span>: \n",
    "<i><br>&nbsp;&nbsp;&nbsp;&nbsp;&nbsp;&nbsp;&nbsp;&nbsp;statement \n",
    "<br>&nbsp;&nbsp;&nbsp;&nbsp;&nbsp;&nbsp;&nbsp;&nbsp;statement\n",
    "<br>&nbsp;&nbsp;&nbsp;&nbsp;&nbsp;&nbsp;&nbsp;&nbsp;etc.</i>"
   ]
  },
  {
   "cell_type": "markdown",
   "metadata": {},
   "source": [
    "When the <b style='color:red'>while</b> loop executes, the condition is tested. If the condition is <b style='color:green'>True</b>, the statements that appear in the block following the <b>while</b> clause are executed, and the loop starts over. If the condition is <b style='color:red'>False</b>, the program exits the loop."
   ]
  },
  {
   "cell_type": "markdown",
   "metadata": {},
   "source": [
    "<b>Example:</b> Write a program that calculates a sales commission for several salespeople."
   ]
  },
  {
   "cell_type": "code",
   "execution_count": 2,
   "metadata": {},
   "outputs": [
    {
     "name": "stdout",
     "output_type": "stream",
     "text": [
      "Enter the amount of sales: 500\n",
      "Enter the commission rate: 20\n",
      "The commission is $10000.00\n",
      "Do you want to calculate another commision? (Enter y for yes)n\n"
     ]
    }
   ],
   "source": [
    "# Create a variable to control the loop\n",
    "keep_going = 'y'\n",
    "\n",
    "while keep_going == 'y':\n",
    "    # Get a salesperson's sales and commission rate\n",
    "    sales = float(input('Enter the amount of sales: '))\n",
    "    comm_rate = float(input('Enter the commission rate: '))\n",
    "\n",
    "    # Calculate the commission\n",
    "    commission = sales * comm_rate\n",
    "\n",
    "    # Display the commission\n",
    "    print(f'The commission is ${commission:.2f}')\n",
    "    \n",
    "    keep_going = input('Do you want to calculate another commision? (Enter y for yes)')"
   ]
  },
  {
   "cell_type": "markdown",
   "metadata": {},
   "source": [
    "<b>Note: </b>In order for a loop to stop executing, something has to happen inside the loop to make the condition false."
   ]
  },
  {
   "cell_type": "markdown",
   "metadata": {},
   "source": [
    "### 2.1 Infinite Loops"
   ]
  },
  {
   "cell_type": "markdown",
   "metadata": {},
   "source": [
    "<b>Important Note:</b> If a loop does not have a way of stopping, it is called an <b>infinite loop</b>. \n",
    "<br>\n",
    "An <i>infinite loop</i> continues to repeat until the program is interrupted.\n",
    "<br>\n",
    "<i>Infinite loops</i> usually occur when the programmer forgets to write code inside the loop that makes the test condition False.\n"
   ]
  },
  {
   "cell_type": "markdown",
   "metadata": {},
   "source": [
    "<b>Note:</b> You need to make sure that your code avoids an infinite loop."
   ]
  },
  {
   "cell_type": "code",
   "execution_count": 9,
   "metadata": {},
   "outputs": [
    {
     "name": "stdout",
     "output_type": "stream",
     "text": [
      "Enter the amount of sales: 700\n",
      "Enter the commission rate: 5\n",
      "The commission is $3500.00\n",
      "Enter the amount of sales: 4\n",
      "Enter the commission rate: 3\n",
      "The commission is $12.00\n",
      "Enter the amount of sales: 77\n",
      "Enter the commission rate: 4\n",
      "The commission is $308.00\n"
     ]
    },
    {
     "ename": "KeyboardInterrupt",
     "evalue": "Interrupted by user",
     "output_type": "error",
     "traceback": [
      "\u001b[1;31m---------------------------------------------------------------------------\u001b[0m",
      "\u001b[1;31mKeyboardInterrupt\u001b[0m                         Traceback (most recent call last)",
      "\u001b[1;32m~\\AppData\\Local\\Temp/ipykernel_33004/3970719050.py\u001b[0m in \u001b[0;36m<module>\u001b[1;34m\u001b[0m\n\u001b[0;32m      3\u001b[0m \u001b[1;32mwhile\u001b[0m \u001b[0mkeep_going\u001b[0m \u001b[1;33m==\u001b[0m \u001b[1;34m'y'\u001b[0m\u001b[1;33m:\u001b[0m\u001b[1;33m\u001b[0m\u001b[1;33m\u001b[0m\u001b[0m\n\u001b[0;32m      4\u001b[0m     \u001b[1;31m# Get a salesperson's sales and commission rate\u001b[0m\u001b[1;33m\u001b[0m\u001b[1;33m\u001b[0m\u001b[0m\n\u001b[1;32m----> 5\u001b[1;33m     \u001b[0msales\u001b[0m \u001b[1;33m=\u001b[0m \u001b[0mfloat\u001b[0m\u001b[1;33m(\u001b[0m\u001b[0minput\u001b[0m\u001b[1;33m(\u001b[0m\u001b[1;34m'Enter the amount of sales: '\u001b[0m\u001b[1;33m)\u001b[0m\u001b[1;33m)\u001b[0m\u001b[1;33m\u001b[0m\u001b[1;33m\u001b[0m\u001b[0m\n\u001b[0m\u001b[0;32m      6\u001b[0m     \u001b[0mcomm_rate\u001b[0m \u001b[1;33m=\u001b[0m \u001b[0mfloat\u001b[0m\u001b[1;33m(\u001b[0m\u001b[0minput\u001b[0m\u001b[1;33m(\u001b[0m\u001b[1;34m'Enter the commission rate: '\u001b[0m\u001b[1;33m)\u001b[0m\u001b[1;33m)\u001b[0m\u001b[1;33m\u001b[0m\u001b[1;33m\u001b[0m\u001b[0m\n\u001b[0;32m      7\u001b[0m \u001b[1;33m\u001b[0m\u001b[0m\n",
      "\u001b[1;32m~\\anaconda3.0\\lib\\site-packages\\ipykernel\\kernelbase.py\u001b[0m in \u001b[0;36mraw_input\u001b[1;34m(self, prompt)\u001b[0m\n\u001b[0;32m   1004\u001b[0m                 \u001b[1;34m\"raw_input was called, but this frontend does not support input requests.\"\u001b[0m\u001b[1;33m\u001b[0m\u001b[1;33m\u001b[0m\u001b[0m\n\u001b[0;32m   1005\u001b[0m             )\n\u001b[1;32m-> 1006\u001b[1;33m         return self._input_request(\n\u001b[0m\u001b[0;32m   1007\u001b[0m             \u001b[0mstr\u001b[0m\u001b[1;33m(\u001b[0m\u001b[0mprompt\u001b[0m\u001b[1;33m)\u001b[0m\u001b[1;33m,\u001b[0m\u001b[1;33m\u001b[0m\u001b[1;33m\u001b[0m\u001b[0m\n\u001b[0;32m   1008\u001b[0m             \u001b[0mself\u001b[0m\u001b[1;33m.\u001b[0m\u001b[0m_parent_ident\u001b[0m\u001b[1;33m[\u001b[0m\u001b[1;34m\"shell\"\u001b[0m\u001b[1;33m]\u001b[0m\u001b[1;33m,\u001b[0m\u001b[1;33m\u001b[0m\u001b[1;33m\u001b[0m\u001b[0m\n",
      "\u001b[1;32m~\\anaconda3.0\\lib\\site-packages\\ipykernel\\kernelbase.py\u001b[0m in \u001b[0;36m_input_request\u001b[1;34m(self, prompt, ident, parent, password)\u001b[0m\n\u001b[0;32m   1049\u001b[0m             \u001b[1;32mexcept\u001b[0m \u001b[0mKeyboardInterrupt\u001b[0m\u001b[1;33m:\u001b[0m\u001b[1;33m\u001b[0m\u001b[1;33m\u001b[0m\u001b[0m\n\u001b[0;32m   1050\u001b[0m                 \u001b[1;31m# re-raise KeyboardInterrupt, to truncate traceback\u001b[0m\u001b[1;33m\u001b[0m\u001b[1;33m\u001b[0m\u001b[0m\n\u001b[1;32m-> 1051\u001b[1;33m                 \u001b[1;32mraise\u001b[0m \u001b[0mKeyboardInterrupt\u001b[0m\u001b[1;33m(\u001b[0m\u001b[1;34m\"Interrupted by user\"\u001b[0m\u001b[1;33m)\u001b[0m \u001b[1;32mfrom\u001b[0m \u001b[1;32mNone\u001b[0m\u001b[1;33m\u001b[0m\u001b[1;33m\u001b[0m\u001b[0m\n\u001b[0m\u001b[0;32m   1052\u001b[0m             \u001b[1;32mexcept\u001b[0m \u001b[0mException\u001b[0m\u001b[1;33m:\u001b[0m\u001b[1;33m\u001b[0m\u001b[1;33m\u001b[0m\u001b[0m\n\u001b[0;32m   1053\u001b[0m                 \u001b[0mself\u001b[0m\u001b[1;33m.\u001b[0m\u001b[0mlog\u001b[0m\u001b[1;33m.\u001b[0m\u001b[0mwarning\u001b[0m\u001b[1;33m(\u001b[0m\u001b[1;34m\"Invalid Message:\"\u001b[0m\u001b[1;33m,\u001b[0m \u001b[0mexc_info\u001b[0m\u001b[1;33m=\u001b[0m\u001b[1;32mTrue\u001b[0m\u001b[1;33m)\u001b[0m\u001b[1;33m\u001b[0m\u001b[1;33m\u001b[0m\u001b[0m\n",
      "\u001b[1;31mKeyboardInterrupt\u001b[0m: Interrupted by user"
     ]
    }
   ],
   "source": [
    "keep_going = 'y'\n",
    "\n",
    "while keep_going == 'y':\n",
    "    # Get a salesperson's sales and commission rate\n",
    "    sales = float(input('Enter the amount of sales: '))\n",
    "    comm_rate = float(input('Enter the commission rate: '))\n",
    "\n",
    "    # Calculate the commission\n",
    "    commission = sales * comm_rate\n",
    "\n",
    "    # Display the commission\n",
    "    print(f'The commission is ${commission:.2f}')\n",
    "   "
   ]
  },
  {
   "cell_type": "code",
   "execution_count": null,
   "metadata": {},
   "outputs": [],
   "source": []
  },
  {
   "cell_type": "markdown",
   "metadata": {},
   "source": [
    "## 3. The <i>for</i> Loop: A Count-Controlled Loop"
   ]
  },
  {
   "cell_type": "markdown",
   "metadata": {},
   "source": [
    "<b>Note: </b> The <b>for</b> statement is designed to work with a sequence of data items. When the statement executes, it iterates once for each item in the sequence."
   ]
  },
  {
   "cell_type": "markdown",
   "metadata": {},
   "source": [
    "The general format of the <b style='color:red'>for</b> loop:"
   ]
  },
  {
   "cell_type": "markdown",
   "metadata": {},
   "source": [
    "<b>Note: </b><b style='color:red'>for</b> <span style='color:blue'> variable <b style='color:red'>in</b> [value1,value2,...]</span>: \n",
    "<i><br>&nbsp;&nbsp;&nbsp;&nbsp;&nbsp;&nbsp;&nbsp;statement \n",
    "<br>&nbsp;&nbsp;&nbsp;&nbsp;&nbsp;&nbsp;&nbsp;statement\n",
    "<br>&nbsp;&nbsp;&nbsp;&nbsp;&nbsp;&nbsp;&nbsp;etc.</i>"
   ]
  },
  {
   "cell_type": "markdown",
   "metadata": {},
   "source": [
    "<b>Note:</b> The <b>for</b> statement executes in the following manner: \n",
    "<ol>\n",
    "    <li>The <span style='color:blue'>variable</span> is assigned the first value in the list (we will discuss about lists in future sessions).</li>\n",
    "    <li>The statements that appear in the block are executed.</li>\n",
    "    <li><span style='color:blue'>variable</span> is assigned the next value in the list, and the statements in the block are executed again.</li>\n",
    "    <li>This continues until variable has been assigned the last value in the list.</li>\n",
    "</ol>"
   ]
  },
  {
   "cell_type": "markdown",
   "metadata": {},
   "source": [
    "<img src='https://www.dropbox.com/s/zyrwi67r1a8nwpg/The%20for%20loop.png?raw=1'>"
   ]
  },
  {
   "cell_type": "code",
   "execution_count": 4,
   "metadata": {},
   "outputs": [
    {
     "name": "stdout",
     "output_type": "stream",
     "text": [
      "1\n",
      "2\n",
      "3\n",
      "4\n",
      "5\n"
     ]
    }
   ],
   "source": [
    "for num in [1, 2, 3, 4, 5]:\n",
    "    print(num)"
   ]
  },
  {
   "cell_type": "code",
   "execution_count": 5,
   "metadata": {},
   "outputs": [
    {
     "name": "stdout",
     "output_type": "stream",
     "text": [
      "John\n",
      "Frank\n",
      "Mark\n"
     ]
    }
   ],
   "source": [
    "for name in ['John','Frank','Mark']:\n",
    "    print(name)"
   ]
  },
  {
   "cell_type": "markdown",
   "metadata": {},
   "source": [
    "<b>Note:</b>&nbsp;There is a built-in function named <b style='color:red'>range( )</b> that simplifies the process of writing a count-controlled <b>for</b> loop. "
   ]
  },
  {
   "cell_type": "markdown",
   "metadata": {},
   "source": [
    "range(start, stop, step)\n",
    "\n",
    "<ul>\n",
    "    <li><b>start:</b> <u>Optional</u>. An integer number specifying at which position to start. Default is 0</li>\n",
    "    <li><b>stop:</b> <u>Required</u>. An integer number specifying at which position to stop (not included).</li>\n",
    "    <li><b>step:</b> <u>Optional</u>. An integer number specifying the incrementation. Default is 1</li>\n",
    "</ul>"
   ]
  },
  {
   "cell_type": "markdown",
   "metadata": {},
   "source": [
    "<b>Note: </b> range characteristics:\n",
    "<ul>\n",
    "    <li>One argument: used as ending limit </li>\n",
    "    <li>Two arguments: starting value and ending limit </li>\n",
    "    <li>Three arguments: third argument is step value</li>\n",
    "</ul>"
   ]
  },
  {
   "cell_type": "code",
   "execution_count": 6,
   "metadata": {},
   "outputs": [
    {
     "name": "stdout",
     "output_type": "stream",
     "text": [
      "0\n",
      "1\n",
      "2\n",
      "3\n",
      "4\n"
     ]
    }
   ],
   "source": [
    "for num in range(5):\n",
    "    print(num)"
   ]
  },
  {
   "cell_type": "markdown",
   "metadata": {},
   "source": [
    "In this statement, the <b style='color:red'>range( )</b> function will generate an iterable sequence of integers in the range of <span style='color:blue'>0</span> up to (<b>but not including</b>) <span style='color:blue'>5</span>."
   ]
  },
  {
   "cell_type": "code",
   "execution_count": 7,
   "metadata": {},
   "outputs": [
    {
     "name": "stdout",
     "output_type": "stream",
     "text": [
      "Hello World!\n",
      "Hello World!\n",
      "Hello World!\n",
      "Hello World!\n",
      "Hello World!\n"
     ]
    }
   ],
   "source": [
    "for num in range(5):\n",
    "    print(\"Hello World!\")"
   ]
  },
  {
   "cell_type": "markdown",
   "metadata": {},
   "source": [
    "<b>Note:</b> If you pass two arguments to the <b style='color:red'>range( )</b> function, the <b>first</b> argument is used as the <u>starting value of the sequence</u>, and the <b>second</b> argument is used as <u>the ending limit</u>."
   ]
  },
  {
   "cell_type": "code",
   "execution_count": 8,
   "metadata": {},
   "outputs": [
    {
     "name": "stdout",
     "output_type": "stream",
     "text": [
      "2\n",
      "3\n",
      "4\n",
      "5\n",
      "6\n",
      "7\n",
      "8\n"
     ]
    }
   ],
   "source": [
    "for num in range(2, 9): \n",
    "    print(num)"
   ]
  },
  {
   "cell_type": "markdown",
   "metadata": {},
   "source": [
    "<b>Note:</b> If you pass a third argument to the <b style='color:red'>range( )</b> function, that argument is used as <b>step value</b>. Instead of increasing by <span style='color:blue'>1</span>, each successive number in the sequence <u>will increase by the step value</u>."
   ]
  },
  {
   "cell_type": "markdown",
   "metadata": {},
   "source": [
    "<b>Example of <u> Three arguments</u>:</b>"
   ]
  },
  {
   "cell_type": "code",
   "execution_count": null,
   "metadata": {},
   "outputs": [],
   "source": [
    "for num in range(1, 10, 3): \n",
    "    print(num)"
   ]
  },
  {
   "cell_type": "markdown",
   "metadata": {},
   "source": [
    "<b>Note:</b> in the above example:\n",
    "<ul>\n",
    "<li>The first argument, 1, is the starting value for the sequence.</li>\n",
    "<li>The second argument, 10, is the ending limit of the list. This means that the last number in the sequence will be 9.</li>\n",
    "<li>The third argument, 2, is the step value. This means that 2 will be added to each successive number in the sequence.</li>\n",
    "</ul>"
   ]
  },
  {
   "cell_type": "markdown",
   "metadata": {},
   "source": [
    "<b>Note</b>: Target variable can be used in calculations or tasks in the body of the loop."
   ]
  },
  {
   "cell_type": "markdown",
   "metadata": {},
   "source": [
    "<b>Example: </b> calculate square of each number in a range"
   ]
  },
  {
   "cell_type": "code",
   "execution_count": null,
   "metadata": {},
   "outputs": [],
   "source": []
  },
  {
   "cell_type": "markdown",
   "metadata": {},
   "source": [
    "<b>Note: </b>Sometimes the programmer does not know exactly how many times the loop will execute\n",
    "<ul><li>Use <b style='color:red'>input( )</b> function to get the value, place them in variables, and call the range function in the for clause using these variables</li>\n",
    "    <ul><li>Be sure to consider the end cases: <b>range</b> does not include the ending limit\n",
    "    </li></ul></ul>"
   ]
  },
  {
   "cell_type": "markdown",
   "metadata": {},
   "source": [
    "<b>Examples:</b>"
   ]
  },
  {
   "cell_type": "code",
   "execution_count": null,
   "metadata": {},
   "outputs": [],
   "source": [
    "# This program uses a loop to display a table of numbers and their squares.\n",
    "\n",
    "end = int(input('How high should I go? '))\n",
    "\n",
    "\n",
    "print('Number\\tSquare')\n",
    "print('--------------')\n",
    "for number in range(1, end + 1):\n",
    "    square = number**2\n",
    "    print(number, '\\t', square)"
   ]
  },
  {
   "cell_type": "code",
   "execution_count": null,
   "metadata": {},
   "outputs": [],
   "source": [
    "start = int(input('Enter the starting number: '))\n",
    "end = int(input('How high should I go? '))\n",
    "\n",
    "for number in range(start, end + 1):\n",
    "    square = number**2\n",
    "    print(number, '\\t', square)"
   ]
  },
  {
   "cell_type": "markdown",
   "metadata": {},
   "source": [
    "<b>Note:</b> We can use the <b style='color:red'>range( )</b> function to generate sequences of numbers that goes from <u>highest to lowest</u>. \n",
    "<ul><li>Make sure <u>starting number</u> is <u>larger than end limit</u>, and step value is <u>negative</u></li></ul>"
   ]
  },
  {
   "cell_type": "code",
   "execution_count": null,
   "metadata": {},
   "outputs": [],
   "source": [
    "for num in range(10,0,-2):\n",
    "    print(num)"
   ]
  },
  {
   "cell_type": "markdown",
   "metadata": {},
   "source": [
    "<b>Example:</b> Now it's your turn. Write a for loop program that prints the numbers 7 down to 3"
   ]
  },
  {
   "cell_type": "code",
   "execution_count": null,
   "metadata": {},
   "outputs": [],
   "source": [
    "#Write your code here"
   ]
  },
  {
   "cell_type": "markdown",
   "metadata": {},
   "source": [
    "## 4. Calculating a Running Total"
   ]
  },
  {
   "cell_type": "markdown",
   "metadata": {},
   "source": [
    "<b>Note: </b>Programs often need to calculate a total of a series of numbers.\n",
    "<ul>\n",
    "    <li>Typically include two elements:</li>\n",
    "    <ul><li>A loop that reads each number in the series.</li>\n",
    "    <li>A variable that accumulates the total of the numbers as they are read.</li>\n",
    "</ul></ul>\n",
    "\n",
    "<b>Note:</b> It is important that you initialize the accumulator variable"
   ]
  },
  {
   "cell_type": "markdown",
   "metadata": {},
   "source": [
    "<b>Example:</b> Write a program that calculates the sum of a series of numbers entered by the user."
   ]
  },
  {
   "cell_type": "code",
   "execution_count": null,
   "metadata": {},
   "outputs": [],
   "source": [
    "#Write your code here"
   ]
  },
  {
   "cell_type": "markdown",
   "metadata": {},
   "source": [
    "<b>Example:</b> Now it's your turn. write a program to calculate the sum of numbers in the range of 1 through 10."
   ]
  },
  {
   "cell_type": "code",
   "execution_count": null,
   "metadata": {},
   "outputs": [],
   "source": [
    "#Write your code here"
   ]
  },
  {
   "cell_type": "code",
   "execution_count": null,
   "metadata": {},
   "outputs": [],
   "source": []
  },
  {
   "cell_type": "markdown",
   "metadata": {},
   "source": [
    "### 4.1 The Augmented Assignment Operators"
   ]
  },
  {
   "cell_type": "markdown",
   "metadata": {},
   "source": [
    "Often programs have assignment statements in which the variable that is on the left side of the <b style='color:red'>=</b> operator also appears on the right side of the <b style='color:red'>=</b> operator.\n",
    "<br>\n",
    "<br>\n",
    "<b style='color:blue'>x = x + 3</b>\n",
    "<br>\n",
    "<br>\n",
    "On the right side of the assignment operator, 3 is added to x. The result is then assigned to x, replacing the value that x previously referenced."
   ]
  },
  {
   "cell_type": "markdown",
   "metadata": {},
   "source": [
    "<b>Examples:</b>"
   ]
  },
  {
   "cell_type": "markdown",
   "metadata": {},
   "source": [
    "<b style='color:blue'>x = x + 5</b> &nbsp;&nbsp;# Add 5 to x\n",
    "<br><b style='color:blue'>x = x - 4</b> &nbsp;&nbsp;# Subtracts 4 from x\n",
    "<br><b style='color:blue'>x = x * 6</b> &nbsp;&nbsp;# Multiplies x by 6\n",
    "<br><b style='color:blue'>x = x / 3</b> &nbsp;&nbsp;# Divides x by 3\n",
    "<br><b style='color:blue'>x = x % 2</b> &nbsp;&nbsp;# Assigns the remainder of x / 2 to x"
   ]
  },
  {
   "cell_type": "markdown",
   "metadata": {},
   "source": [
    "<b>Important Note:</b> For convenience, Python offers a special set of operators designed specifically for these jobs."
   ]
  },
  {
   "cell_type": "markdown",
   "metadata": {},
   "source": [
    "<b>Examples:</b>"
   ]
  },
  {
   "cell_type": "markdown",
   "metadata": {},
   "source": [
    "<b style='color:blue'>x += 5</b> &nbsp; is the same as &nbsp; <b style='color:blue'>x = x + 5</b>\n",
    "<br>\n",
    "<b style='color:blue'>x -= 4</b> &nbsp; is the same as &nbsp; <b style='color:blue'>x = x - 4</b>\n",
    "<br>\n",
    "<b style='color:blue'>x *= 6</b> &nbsp; is the same as &nbsp; <b style='color:blue'>x = x * 6</b>\n",
    "<br>\n",
    "<b style='color:blue'>x /= 3</b> &nbsp; is the same as &nbsp; <b style='color:blue'>x = x / 3</b>\n",
    "<br>\n",
    "<b style='color:blue'>x %= 2</b> &nbsp; is the same as &nbsp; <b style='color:blue'>x = x % 2</b>"
   ]
  },
  {
   "cell_type": "markdown",
   "metadata": {},
   "source": [
    "Here is the complete list:"
   ]
  },
  {
   "cell_type": "markdown",
   "metadata": {},
   "source": [
    "<img src='https://www.dropbox.com/s/9n3jyv77cgvot7f/Augmented%20assignment%20operators.png?raw=1'>"
   ]
  },
  {
   "cell_type": "markdown",
   "metadata": {},
   "source": [
    "## 5. Input Validation"
   ]
  },
  {
   "cell_type": "markdown",
   "metadata": {},
   "source": [
    "<b>Note: </b>Computer cannot tell the difference between good data and bad data\n",
    "<ul><li>If user provides bad input, program will produce bad output</li>\n",
    "<li>It is important to design program such that bad input is never accepted</li></ul>"
   ]
  },
  {
   "cell_type": "code",
   "execution_count": 11,
   "metadata": {},
   "outputs": [
    {
     "name": "stdout",
     "output_type": "stream",
     "text": [
      "Enter the hours worked this week: 40\n",
      "Enter the hourly pay rate: 300\n",
      "Gross pay: $ 12,000.00\n"
     ]
    }
   ],
   "source": [
    "# Get the number of hours worked.\n",
    "hours = int(input('Enter the hours worked this week: '))\n",
    "\n",
    "# Get the hourly pay rate.\n",
    "pay_rate = float(input('Enter the hourly pay rate: '))\n",
    "\n",
    "# Calculate the gross pay.\n",
    "gross_pay = hours * pay_rate\n",
    "\n",
    "# Display the gross pay.\n",
    "print('Gross pay: $', format(gross_pay, ',.2f'))"
   ]
  },
  {
   "cell_type": "markdown",
   "metadata": {},
   "source": [
    "<b>Input validation:</b> the process of inspecting data that has been input to a program, to make sure it is valid before it is used in a computation. \n",
    "<ul><li>If the input is invalid, the program should discard it and prompt the user to enter the correct data.</li>\n",
    "    <li>Commonly accomplished using a while loop which repeats as long as the input is bad</li>\n",
    "    <ul><li>If input is bad, display error message and receive another set of data</li>\n",
    "        <li>If input is good, continue to process the input</li></ul></ul>\n",
    "    "
   ]
  },
  {
   "cell_type": "markdown",
   "metadata": {},
   "source": [
    "## 6. Nested Loops"
   ]
  },
  {
   "cell_type": "markdown",
   "metadata": {},
   "source": [
    "<b> Note: </b> A loop that is inside another loop is called a nested loop."
   ]
  },
  {
   "cell_type": "markdown",
   "metadata": {},
   "source": [
    "<b>Example: </b> analog clock works like a nested loop\n",
    "<ul><li>Hours hand moves once for every twelve movements of the minutes hand: for each iteration of the “hours,” do twelve iterations of “minutes”</li>\n",
    "<li>Seconds hand moves 60 times for each movement of the minutes hand: for each iteration of “minutes,” do 60 iterations of “seconds”</li></ul>"
   ]
  },
  {
   "cell_type": "markdown",
   "metadata": {},
   "source": [
    "<b>Exapmle</b>"
   ]
  },
  {
   "cell_type": "code",
   "execution_count": 12,
   "metadata": {},
   "outputs": [
    {
     "name": "stdout",
     "output_type": "stream",
     "text": [
      "Hello World\n",
      "Hello World\n",
      "Hello World\n",
      "Hello World\n",
      "Hello World\n",
      "Hello World\n",
      "Hello World\n",
      "Hello World\n",
      "Hello World\n",
      "Hello World\n",
      "Hello World\n",
      "Hello World\n",
      "Hello World\n",
      "Hello World\n",
      "Hello World\n"
     ]
    }
   ],
   "source": [
    "Max = 6\n",
    "for r in range(Max): \n",
    "    for c in range(r):\n",
    "        print('Hello World')"
   ]
  }
 ],
 "metadata": {
  "kernelspec": {
   "display_name": "Python 3 (ipykernel)",
   "language": "python",
   "name": "python3"
  },
  "language_info": {
   "codemirror_mode": {
    "name": "ipython",
    "version": 3
   },
   "file_extension": ".py",
   "mimetype": "text/x-python",
   "name": "python",
   "nbconvert_exporter": "python",
   "pygments_lexer": "ipython3",
   "version": "3.9.7"
  }
 },
 "nbformat": 4,
 "nbformat_minor": 4
}
