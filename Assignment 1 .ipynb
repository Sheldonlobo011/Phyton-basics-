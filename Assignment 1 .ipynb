{
 "cells": [
  {
   "cell_type": "markdown",
   "metadata": {},
   "source": [
    "<h1 style='color:blue' align=center>Assignment#1</h1>"
   ]
  },
  {
   "cell_type": "code",
   "execution_count": 6,
   "metadata": {},
   "outputs": [],
   "source": [
    "# Student Name: <sheldon lobo>"
   ]
  },
  {
   "cell_type": "markdown",
   "metadata": {},
   "source": [
    "<b>Q#1.</b> A company sells an item that retails for $239. Quantity discounts are given according to the following table:\n",
    "<br>\n",
    "Quantity&nbsp;&nbsp;&nbsp;&nbsp;&nbsp;&nbsp;&nbsp;&nbsp;&nbsp;&nbsp;&nbsp;Discount<br>\n",
    "7-21&nbsp;&nbsp;&nbsp;&nbsp;&nbsp;&nbsp;&nbsp;&nbsp;&nbsp;&nbsp;&nbsp;&nbsp;&nbsp;&nbsp;&nbsp;&nbsp;&nbsp;12%<br>\n",
    "22-41&nbsp;&nbsp;&nbsp;&nbsp;&nbsp;&nbsp;&nbsp;&nbsp;&nbsp;&nbsp;&nbsp;&nbsp;&nbsp;&nbsp;&nbsp;&nbsp;21%<br>\n",
    "42-53&nbsp;&nbsp;&nbsp;&nbsp;&nbsp;&nbsp;&nbsp;&nbsp;&nbsp;&nbsp;&nbsp;&nbsp;&nbsp;&nbsp;&nbsp;&nbsp;33%<br>\n",
    "54-82&nbsp;&nbsp;&nbsp;&nbsp;&nbsp;&nbsp;&nbsp;&nbsp;&nbsp;&nbsp;&nbsp;&nbsp;&nbsp;&nbsp;&nbsp;&nbsp;46%<br>\n",
    "83-99&nbsp;&nbsp;&nbsp;&nbsp;&nbsp;&nbsp;&nbsp;&nbsp;&nbsp;&nbsp;&nbsp;&nbsp;&nbsp;&nbsp;&nbsp;&nbsp;52%<br>\n",
    "100 or more&nbsp;&nbsp;&nbsp;&nbsp;&nbsp;&nbsp;57%<br><br>\n",
    "Write a program that asks the user to enter the number of items purchased.If the number is not positive, show error message and again ask the user to enter a positive number. The program should then display the amount of the discount (if any) and the total amount of the purchase after the discount."
   ]
  },
  {
   "cell_type": "code",
   "execution_count": 17,
   "metadata": {},
   "outputs": [
    {
     "name": "stdout",
     "output_type": "stream",
     "text": [
      "please enter the number of sales made\t50\n",
      "The number of sales is 50$\n",
      "The discount is 2509.5$ & The amount after discount is 9440.5$\n"
     ]
    }
   ],
   "source": [
    "# Write Your Answer for Q#1 Over Here\n",
    "#input from user about sales \n",
    "sales=int(input('please enter the number of sales made\\t'))\n",
    "#if condition if less than 0 or neg number print error message \n",
    "if sales<0:\n",
    "    print(f'please enter a vaild number of sales\\t')\n",
    "    sales=int(input('please enter the number of sales made\\t'))\n",
    "#sales betweeen less than 7    \n",
    "if sales<=6:\n",
    "    print(f'The number of sales is {sales}$')\n",
    "    item_amount=239\n",
    "    sales_amount=sales*item_amount\n",
    "    discount=0*sales_amount\n",
    "    after_discount=sales_amount-discount\n",
    "    print(f'The discount is ${discount} & The amount after discount is {after_discount}')\n",
    "# sales is between 7 and 21\n",
    "if sales>=7 and sales<=21:\n",
    "    print(f'The number of sales is ${sales}')\n",
    "    item_amount=239\n",
    "    sales_amount=sales*item_amount\n",
    "    discount=0.12*sales_amount\n",
    "    after_discount=sales_amount-discount\n",
    "    print(f'The discount is ${discount} & The amount after discount is ${after_discount}')\n",
    "# sales between 22 and 41\n",
    "if sales>=22 and sales<=41:\n",
    "    print(f'The number of sales is {sales}$')\n",
    "    item_amount=239\n",
    "    sales_amount=sales*item_amount\n",
    "    discount=0.21*sales_amount\n",
    "    after_discount=sales_amount-discount\n",
    "    print(f'The discount is {discount}$ & The amount after discount is {after_discount}$')\n",
    "if sales>=42 and sales<=53:\n",
    "    print(f'The number of sales is {sales}$')\n",
    "    item_amount=239\n",
    "    sales_amount=sales*item_amount\n",
    "    discount=0.33*sales_amount\n",
    "    after_discount=sales_amount-discount\n",
    "    print(f'The discount is {discount}$ & The amount after discount is {after_discount}$')\n",
    "# sales between 54 and 82\n",
    "if sales>=54 and sales<=82:\n",
    "    print(f'The number of sales is {sales}$')\n",
    "    item_amount=239\n",
    "    sales_amount=sales*item_amount\n",
    "    discount=0.46*sales_amount\n",
    "    after_discount=sales_amount-discount\n",
    "    print(f'The discount is {discount}$ & The amount after discount is {after_discount}$') \n",
    "# sales betweeen 83 and 89\n",
    "if sales>=83 and sales<=89:\n",
    "    print(f'The number of sales is {sales}$')\n",
    "    item_amount=239\n",
    "    sales_amount=sales*item_amount\n",
    "    discount=0.52*sales_amount\n",
    "    after_discount=sales_amount-discount\n",
    "    print(f'The discount is {discount}$ & The amount after discount is {after_discount}$')    \n",
    "# salse above 100\n",
    "if sales>=100:\n",
    "    print(f'The number of sales is {sales}$')\n",
    "    item_amount=239\n",
    "    sales_amount=sales*item_amount\n",
    "    discount=0.57*sales_amount\n",
    "    after_discount=sales_amount-discount\n",
    "    print(f'The discount is {discount}$ & The amount after discount is {after_discount}$')    \n",
    "    "
   ]
  },
  {
   "cell_type": "markdown",
   "metadata": {},
   "source": [
    "<b>Q#2.</b> Assume hamburger come in packages of 12, and hamburger buns come in packages of 10. Write a program that calculates the number of packages of hamburger and the number of packages of hamburger buns needed for a cookout, with the minimum amount of leftovers. The program should ask the user for the number of people attending the cookout and the number of hamburger each person will be given. The program should display the following details:\n",
    "<ul><li>The minimum number of packages of hamburger required</li>\n",
    "<li>The minimum number of packages of hamburger buns required</li>\n",
    "<li>The number of hamburger that will be left over</li>\n",
    "<li>The number of hamburger buns that will be left over</li></ul>"
   ]
  },
  {
   "cell_type": "code",
   "execution_count": 30,
   "metadata": {},
   "outputs": [
    {
     "name": "stdout",
     "output_type": "stream",
     "text": [
      "Enter the number of guests: 100\n",
      "Hot dogs per person: 1\n",
      "8.333333333333334\n",
      "10.0\n",
      "remaining buns after serving everyone  $4\n"
     ]
    }
   ],
   "source": [
    "# Write Your Answer for Q#2 Over Here\n",
    "#number of burger and buns in a packet\n",
    "hamburger = 12\n",
    "buns = 10\n",
    "#input from user\n",
    "a = int(input('Enter the number of guests: '))\n",
    "b = int(input('Hot dogs per person: '))\n",
    "total = a * b\n",
    " \n",
    "pack_hamburger = total / hamburger\n",
    "pack_buns = total / buns\n",
    "print(pack_hamburger)\n",
    "print(pack_buns)\n",
    "#remaining buns after serving everyone   \n",
    "remain_buns = total % buns\n",
    "if remain_buns != 0:\n",
    "    print(f'remaining buns after serving everyone  ${remain_buns}')\n",
    "#remaining hamburgers after serving everyone \n",
    "remain_hamburger =  total % hamburger\n",
    "if remain_hamburger != 0:\n",
    "    print(f'remaining buns after serving everyone  ${remain_hamburger}')\n"
   ]
  },
  {
   "cell_type": "markdown",
   "metadata": {},
   "source": [
    "<b>Q#3.</b> A class has three tests worth 15 points each along with a main exam worth 55 points. For a student to pass the class, they must obtain an overall score of at least 50 points, and must obtain at least 30 points in the main exam. If a student’s total score is less than 50 or they obtain less than 30 points in the main exam, they receive a grade of “Fail”. Otherwise, their grade is as follows:\n",
    "<ul><li>If they get more than 80, they get a grade of “Distinction”.</li>\n",
    "    <li>If they get less than 80 but more than 60, they get a “Credit” grade.</li>\n",
    "    <li>If they get less than 60, but more than 50, they get a ”Pass” grade.</li>\n",
    "</ul>\n",
    "<br>\n",
    "The program should first check if the points entered for the tests and exam are valid. If any of the test scores are not between 0 and 15, or the exam score is not between 0 and 55, the program should display an error message. Otherwise, the program should display the total points and the grade."
   ]
  },
  {
   "cell_type": "code",
   "execution_count": 8,
   "metadata": {},
   "outputs": [
    {
     "name": "stdout",
     "output_type": "stream",
     "text": [
      "Enter the test1_points15\n",
      "Enter the test2_points15\n",
      "Enter the test3_points15\n",
      "Enter the exam points50\n",
      "Your points in Test 1 are 15\n",
      "Your points in Test 2 are 15\n",
      "Your points in Test 3 are 15\n",
      "Your exam_points are 50\n",
      "The Final marks are 95 and You Earned a Distinction\n"
     ]
    }
   ],
   "source": [
    "# Write Your Answer for Q#3 Over Here\n",
    "test1=int(input('Enter the test1_points'))\n",
    "test2=int(input('Enter the test2_points'))\n",
    "test3=int(input('Enter the test3_points'))\n",
    "main_exam=int(input('Enter the exam points'))\n",
    "if test1>=0 and test1<=15:\n",
    "    print(f'Your points in Test 1 are {test1}')\n",
    "    if test2>=0 and test2<=15:\n",
    "        print(f'Your points in Test 2 are {test2}')\n",
    "        if test3>=0 and test3<=15:\n",
    "             print(f'Your points in Test 3 are {test3}')\n",
    "                \n",
    "        if main_exam>=0 and main_exam<=50:\n",
    "                    print(f'Your exam_points are {main_exam}')\n",
    "                    total=test1+test2+test3+main_exam\n",
    "                    if total<50 or main_exam<30:\n",
    "                        print(f'The Final marks are {total} and you received an F grade')\n",
    "                    else:\n",
    "                        if total>80:\n",
    "                            print(f'The Final marks are {total} and You Earned a Distinction')\n",
    "                        elif total<=80 and total>=60:\n",
    "                            print(f'The Final marks are {total} and You passed out with a credit grade')\n",
    "                        elif total>50 or total<60:\n",
    "                            print('you just got a pass grade')      \n",
    "        else:\n",
    "            if test1 or test2 or test3<0 or test1 or test2 or test3>15:\n",
    "                print('enter valid test scores')\n",
    "                if main_exam<0 or main_exam>55:\n",
    "                    print('enter valid exam score')"
   ]
  },
  {
   "cell_type": "markdown",
   "metadata": {},
   "source": [
    "<b>Q#4.</b> Use the loop structure to write a program that receives 7 <b>positive</b> numbers from the user. Make sure you have 7 positive number at the end. Display, the average of 7 positive numbers collected, the sum of all positive odd numbers and the maximum of the 7 positive numbers.\n",
    "<br>Do not use Python’s internal functions for average and maximum.  "
   ]
  },
  {
   "cell_type": "code",
   "execution_count": 15,
   "metadata": {},
   "outputs": [
    {
     "name": "stdout",
     "output_type": "stream",
     "text": [
      "enter 1  Number:  \n",
      "1\n",
      "enter 2  Number:  \n",
      "2\n",
      "enter 3  Number:  \n",
      "3\n",
      "enter 4  Number:  \n",
      "4\n",
      "enter 5  Number:  \n",
      "5\n",
      "enter 6  Number:  \n",
      "6\n",
      "enter 7  Number:  \n",
      "7\n",
      "the sum of all positive odd number: 1\n",
      "the max of 7 positive odd number: 2\n",
      "The average of 7 positive number : 0.14285714285714285\n"
     ]
    }
   ],
   "source": [
    "# Write Your Answer for Q#4 Over Here\n",
    "def number(input_number):\n",
    "   for val in range(7):\n",
    "        if input_number[val]<0:\n",
    "            print('error message enter valid number')\n",
    "            return False\n",
    "        return True\n",
    "def average(input_number):\n",
    "    sum=0\n",
    "    for val in range(7):\n",
    "        sum +=input_number[val]\n",
    "        return sum/7\n",
    "def maximum(input_number):\n",
    "    max = input_number[0]\n",
    "    for val in range(1,7):\n",
    "        if input_number[val] > max:\n",
    "            max = input_number[val]\n",
    "            return max\n",
    "def odd(input_number):\n",
    "    sum = 0\n",
    "    for val in range(7):\n",
    "        if input_number[val]%2 !=0:\n",
    "            sum += input_number[val]\n",
    "            return sum\n",
    "input_number =[0,0,0,0,0,0,0]\n",
    "for value in range(7):\n",
    "    print('enter',value+1,' Number:  ')\n",
    "    input_number[value] = int(input())\n",
    "\n",
    "if number(input_number):\n",
    "    print('the sum of all positive odd number:', odd(input_number))\n",
    "    print('the max of 7 positive odd number:', maximum(input_number))\n",
    "    print('The average of 7 positive number :', average(input_number))\n",
    "    "
   ]
  },
  {
   "cell_type": "markdown",
   "metadata": {},
   "source": [
    "<b>Q#5.</b> Write a program that utilizes the loop structure to keep asking the user to enter a positive integer number and stop asking when the user enters the number 0. The program should determine how many prime and compisite numbers are recieved by the user and prints a message for each of them. "
   ]
  },
  {
   "cell_type": "code",
   "execution_count": 11,
   "metadata": {},
   "outputs": [
    {
     "name": "stdout",
     "output_type": "stream",
     "text": [
      "Enter a positive number: 1\n",
      "Neither Prime nor Composite\n",
      "Enter a positive number: 2\n",
      "Prime Number\n",
      "Enter a positive number: 3\n",
      "Prime Number\n",
      "Enter a positive number: 4\n",
      "Composite Number\n",
      "Enter a positive number: 5\n",
      "Prime Number\n",
      "Enter a positive number: 6\n",
      "Composite Number\n",
      "Enter a positive number: 7\n",
      "Prime Number\n",
      "Enter a positive number: 0\n"
     ]
    }
   ],
   "source": [
    "# Write Your Answer for Q#5 Over Here\n",
    "def prime(input_number):\n",
    "    input_number = input_number\n",
    "    if input_number.isnumeric():\n",
    "        input_number = int(input_number)\n",
    "        x = 0\n",
    "        if input_number < 0:\n",
    "            print(\"Did not enter a positive number\")\n",
    "        elif input_number == 0 or input_number == 1:\n",
    "            print(\"Neither Prime nor Composite\")\n",
    "        elif input_number > 1:\n",
    "            for i in range(2, input_number + 1):\n",
    "                if input_number % i == 0:\n",
    "                    x = x + 1\n",
    "            if x == 1:\n",
    "                \n",
    "                print(\"Prime Number\")\n",
    "            else:\n",
    "                print(\"Composite Number\")\n",
    "    else:\n",
    "        print(\"Error\")\n",
    "        \n",
    "input_number = input(\"Enter a positive number: \")\n",
    "while input_number != '0':\n",
    "    prime(input_number)\n",
    "    input_number = input(\"Enter a positive number: \")\n",
    "\n",
    "    "
   ]
  },
  {
   "cell_type": "markdown",
   "metadata": {},
   "source": [
    "<b>Q#6.</b> Write a program to calculate the multiplication of numbers between 12 and 16. It is important that your program avoids the calculation of repeated multiplications (for example 12x14 and 14x12).\n",
    "\n",
    "<br/>\n",
    "\n",
    "<b><i>output:</i></b><br/>\n",
    "12 x 12 = 144 <br>\n",
    "12 x 13 = 156 <br>\n",
    "12 x 14 = 168 <br>\n",
    "12 x 15 = 180 <br>\n",
    "12 x 16 = 192 <br>\n",
    "13 x 13 = 169 <br>\n",
    ". <br>\n",
    ". <br>\n",
    ". <br>\n",
    "15 x 15 = 225 <br>\n",
    "15 x 16 = 240 <br>\n",
    "16 x 16 = 256 <br>"
   ]
  },
  {
   "cell_type": "code",
   "execution_count": 32,
   "metadata": {},
   "outputs": [
    {
     "name": "stdout",
     "output_type": "stream",
     "text": [
      "12 x 12 = 144\n",
      "12 x 13 = 156\n",
      "12 x 14 = 168\n",
      "12 x 15 = 180\n",
      "13 x 13 = 169\n",
      "13 x 14 = 182\n",
      "13 x 15 = 195\n",
      "14 x 14 = 196\n",
      "14 x 15 = 210\n",
      "15 x 15 = 225\n"
     ]
    }
   ],
   "source": [
    "# Write Your Answer for Q#6 Over Here\n",
    "#determing range \n",
    "for i in range(12,16):\n",
    "    for j in range(12,16):\n",
    "        if i<=j:\n",
    "            multiply=i*j\n",
    "# printing multiplication of range             \n",
    "            print(f'{i} x {j} = {multiply}')"
   ]
  },
  {
   "cell_type": "markdown",
   "metadata": {},
   "source": [
    "<b>Q#7.</b><b>Q#7.</b> Create a program that prompts the user to enter two numbers as the starting and ending limits of a range. Continue asking if the starting number is greater than the endig limit. The program must calculate the remainder of dividing the numbers in the range (both included) by 4 and display it alphabetically.\n",
    "<br><br>Sample runs are shown below: \n",
    "<br>\n",
    "<br>Enter a strating point: 23\n",
    "<br> Enter an ending limit: 27\n",
    "   <br>     The reminder of division of 23 by 4 is three\n",
    "   <br>     the remainder of division of 24 by 4 is zero\n",
    "    <br>    the remainder of division of 25 by 4 is one\n",
    "     <br>   the remainder of division of 26 by 4 is two\n",
    "     <br>   the remainder of division of 27 by 4 is three"
   ]
  },
  {
   "cell_type": "code",
   "execution_count": 9,
   "metadata": {},
   "outputs": [
    {
     "name": "stdout",
     "output_type": "stream",
     "text": [
      "Enter the starting limit.  10\n",
      "Enter the ending limit.  15\n",
      "The reminder of division of 10 by 4 is two\n",
      "The reminder of division of 11 by 4 is three\n",
      "The reminder of division of 12 by 4 is zero\n",
      "The reminder of division of 13 by 4 is one\n",
      "The reminder of division of 14 by 4 is two\n",
      "The reminder of division of 15 by 4 is three\n"
     ]
    }
   ],
   "source": [
    "# Write Your Answer for Q#7 Over Here\n",
    "#taking input from user\n",
    "start = int(input(\"Enter the starting limit.  \"))\n",
    "end = int(input(\"Enter the ending limit.  \"))\n",
    "#for statement \n",
    "for i in range(start,end+1):\n",
    "    a=i%4\n",
    "    if a==0:\n",
    "        b=\"zero\"\n",
    "    elif a==1:\n",
    "        b=\"one\"\n",
    "    elif a==2:\n",
    "        b=\"two\"\n",
    "    elif a==3:\n",
    "        b=\"three\"\n",
    " #print statement       \n",
    "    print(\"The reminder of division of\",i ,\"by 4 is\",b)\n",
    "    "
   ]
  },
  {
   "cell_type": "markdown",
   "metadata": {},
   "source": [
    "# <b>Important Points:</b>\n",
    "<ul>\n",
    "    <li>Make sure you put your name at the top of the assignment file as a comment.</li>\n",
    "    <li>Write your code for each question in the specified cell</li>\n",
    "    <li><b>You should only use the programming concepts that have been covered in this course.</b></li>\n",
    "    <li>Try to add comments to your code.</li>\n",
    "    <li>Make sure to save the ipython file (this file) <b>with the outputs</b> and submit the file on Canvas.</li>\n",
    "    <li>For questions without ouput you will not get any point.</li>\n",
    "    <li>If your code has an error (even a simple syntax error), you will not get any point for that questions.</li>\n",
    "    <li>The <b>due date</b> for this assignment is:<span style='color:red'> --<b> Feb 16 at 11:59 PM</b>.</span></li>\n",
    "    <li><u><b>No late submission will be accepted.</b></u></li>\n",
    "</ul>"
   ]
  }
 ],
 "metadata": {
  "kernelspec": {
   "display_name": "Python 3 (ipykernel)",
   "language": "python",
   "name": "python3"
  },
  "language_info": {
   "codemirror_mode": {
    "name": "ipython",
    "version": 3
   },
   "file_extension": ".py",
   "mimetype": "text/x-python",
   "name": "python",
   "nbconvert_exporter": "python",
   "pygments_lexer": "ipython3",
   "version": "3.9.7"
  }
 },
 "nbformat": 4,
 "nbformat_minor": 4
}
